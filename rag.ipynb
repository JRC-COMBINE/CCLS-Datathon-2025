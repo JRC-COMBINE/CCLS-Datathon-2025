{
 "cells": [
  {
   "cell_type": "markdown",
   "metadata": {},
   "source": [
    "# Setting up the Project"
   ]
  },
  {
   "cell_type": "code",
   "execution_count": 123,
   "metadata": {},
   "outputs": [],
   "source": [
    "from agno.models.azure import AzureOpenAI\n",
    "from agno.agent import Agent\n",
    "import os\n",
    "\n",
    "model_name = \"gpt-4.1-mini\"\n",
    "api_version=\"2025-04-01-preview\"\n",
    "endpoint = \"\"\n",
    "api_key = \"\"\n",
    "\n",
    "os.environ[\"AZURE_OPENAI_API_KEY\"] = api_key\n",
    "os.environ[\"AZURE_OPENAI_ENDPOINT\"] = endpoint\n",
    "os.environ[\"OPENAI_API_VERSION\"] = api_version"
   ]
  },
  {
   "cell_type": "code",
   "execution_count": 126,
   "metadata": {},
   "outputs": [
    {
     "name": "stdout",
     "output_type": "stream",
     "text": [
      "Breaking news from Aachen! Earlier today, the historic city of Aachen witnessed an unexpected event as a rare archaeological discovery was made during construction work near the iconic Aachen Cathedral. Workers unearthed ancient Roman artifacts believed to date back over 1,500 years, including pottery, coins, and tools. Experts from the local university have rushed to the site to begin a detailed excavation, calling it a \"remarkable window into Aachen's early history.\" The city officials have temporarily halted construction to preserve the site, and plans are underway to create a small museum exhibit to showcase these incredible finds. Stay tuned for more updates on this fascinating story!\n"
     ]
    }
   ],
   "source": [
    "agent = Agent(\n",
    "    model=AzureOpenAI(id=model_name, temperature=0),\n",
    "    description=\"You are an enthusiastic news reporter with a flair for storytelling!\",\n",
    ")\n",
    "res = agent.run(\"Tell me about a breaking news story from Aachen.\")\n",
    "print(res.content)"
   ]
  },
  {
   "cell_type": "markdown",
   "metadata": {},
   "source": [
    "# Setting up the vector database and the knowledge base"
   ]
  },
  {
   "cell_type": "markdown",
   "metadata": {},
   "source": [
    "## Embeddings"
   ]
  },
  {
   "cell_type": "code",
   "execution_count": 111,
   "metadata": {},
   "outputs": [
    {
     "name": "stdout",
     "output_type": "stream",
     "text": [
      "Embeddings: [0.016539961, -0.025933826, 0.048515484, 0.03760145, -0.04732014, -0.002327353, -0.010972504, 0.029467896, -0.014123281, -0.006298308]\n",
      "Dimensions: 1536\n"
     ]
    }
   ],
   "source": [
    "from agno.embedder.azure_openai import AzureOpenAIEmbedder\n",
    "\n",
    "embeddings = AzureOpenAIEmbedder().get_embedding(\n",
    "    \"Center for Computational Life Sciences\"\n",
    ")\n",
    "\n",
    "print(f\"Embeddings: {embeddings[:10]}\")\n",
    "print(f\"Dimensions: {len(embeddings)}\")"
   ]
  },
  {
   "cell_type": "markdown",
   "metadata": {},
   "source": [
    "## Vector database"
   ]
  },
  {
   "cell_type": "code",
   "execution_count": 139,
   "metadata": {},
   "outputs": [
    {
     "name": "stdout",
     "output_type": "stream",
     "text": [
      "ccls\n",
      "AzureOpenAIEmbedder(dimensions=1536, id='text-embedding-3-small', encoding_format='float', user=None, api_key=None, api_version='2024-10-21', azure_endpoint=None, azure_deployment=None, base_url=None, azure_ad_token=None, azure_ad_token_provider=None, organization=None, request_params=None, client_params=None, openai_client=None)\n",
      "./lancedb_data\n"
     ]
    }
   ],
   "source": [
    "from agno.vectordb.lancedb import LanceDb\n",
    "\n",
    "vector_db = LanceDb(\n",
    "    table_name=\"ccls\",\n",
    "    uri=\"./lancedb_data\",\n",
    "    search_type=\"hybrid\",\n",
    "    embedder=AzureOpenAIEmbedder()\n",
    ")\n",
    "print(vector_db.table_name)\n",
    "print(vector_db.embedder)\n",
    "print(vector_db.uri)"
   ]
  },
  {
   "cell_type": "markdown",
   "metadata": {},
   "source": [
    "## Knowledge Base"
   ]
  },
  {
   "cell_type": "code",
   "execution_count": 140,
   "metadata": {},
   "outputs": [
    {
     "name": "stdout",
     "output_type": "stream",
     "text": [
      "heart_failure_review.pdf\n",
      "<agno.vectordb.lancedb.lance_db.LanceDb object at 0x129f86b50>\n",
      "<agno.document.chunking.fixed.FixedSizeChunking object at 0x12f326390>\n"
     ]
    }
   ],
   "source": [
    "import pandas as pd\n",
    "from agno.knowledge.pdf import PDFKnowledgeBase, PDFReader\n",
    "\n",
    "pdf_knowledge_base = PDFKnowledgeBase(\n",
    "    path=\"heart_failure_review.pdf\",\n",
    "    vector_db=vector_db,\n",
    "    reader=PDFReader(chunk=True),\n",
    ")\n",
    "print(pdf_knowledge_base.path)\n",
    "print(pdf_knowledge_base.vector_db)\n",
    "print(pdf_knowledge_base.chunking_strategy)"
   ]
  },
  {
   "cell_type": "markdown",
   "metadata": {},
   "source": [
    "# Chunking the data"
   ]
  },
  {
   "cell_type": "markdown",
   "metadata": {},
   "source": [
    "## Fixed Size chunking"
   ]
  },
  {
   "cell_type": "code",
   "execution_count": 141,
   "metadata": {},
   "outputs": [
    {
     "name": "stdout",
     "output_type": "stream",
     "text": [
      "<agno.document.chunking.fixed.FixedSizeChunking object at 0x12f326390>\n"
     ]
    },
    {
     "data": {
      "text/html": [
       "<pre style=\"white-space:pre;overflow-x:auto;line-height:normal;font-family:Menlo,'DejaVu Sans Mono',consolas,'Courier New',monospace\"><span style=\"color: #000080; text-decoration-color: #000080\">INFO</span> Reading: heart_failure_review                                                                                 \n",
       "</pre>\n"
      ],
      "text/plain": [
       "\u001b[34mINFO\u001b[0m Reading: heart_failure_review                                                                                 \n"
      ]
     },
     "metadata": {},
     "output_type": "display_data"
    },
    {
     "name": "stdout",
     "output_type": "stream",
     "text": [
      "29\n",
      "Vol.:(0123456789)1 3 h ttps://doi.org/10.1007/s10741-021-10105-w Biomarkers for the diagnosis and ma\n",
      "Chunk metadata: {'page': 1, 'chunk': 1, 'chunk_size': 4137}\n",
      "1 3 help refine the management of patients with HF and further improve their prognosis. Characterist\n",
      "Chunk metadata: {'page': 2, 'chunk': 1, 'chunk_size': 4895}\n",
      "1 3 Diagnosis In the Breathing Not Properly study, which included 1586 patients admitted to the emer\n",
      "Chunk metadata: {'page': 3, 'chunk': 1, 'chunk_size': 2036}\n"
     ]
    }
   ],
   "source": [
    "print(pdf_knowledge_base.chunking_strategy)\n",
    "chunks = list(pdf_knowledge_base.document_lists)[0]\n",
    "print(len(chunks))\n",
    "for chunk in chunks[:3]:\n",
    "    print(f\"{chunk.content[:100]}\")\n",
    "    print(f\"Chunk metadata: {chunk.meta_data}\")"
   ]
  },
  {
   "cell_type": "code",
   "execution_count": 91,
   "metadata": {},
   "outputs": [
    {
     "name": "stdout",
     "output_type": "stream",
     "text": [
      "Vol.:(0123456789)1 3\n",
      "h\n",
      "ttps://doi.org/10.1007/s10741-021-10105-w\n",
      "Biomarkers for the diagnosis and management of heart failure\n",
      "Vincenzo Castiglione1 · Alberto Aimo1,2  · Giuseppe Vergaro1,2 · Luigi Saccaro1 · Claudio Passino1,2 · \n",
      "Michele Emdin1,2\n",
      "Accepted: 6 April 2021 \n",
      "© The Author(s) 2021\n",
      "Abstract\n",
      "Heart failure (HF) is a significant cause of morbidity and mortality worldwide. Circulating biomarkers reflecting pathophysi-\n",
      "ological pathways involved in HF development and progression may assist clinicians in early diagnosis and management of \n",
      "HF patients. Natriuretic peptides (NPs) are cardioprotective hormones released by cardiomyocytes in response to pressure \n",
      "or volume overload. The roles of B-type NP (BNP) and N-terminal pro-B-type NP (NT-proBNP) for diagnosis and risk \n",
      "stratification in HF have been extensively demonstrated, and these biomarkers are emerging tools for population screening \n",
      "and as guides to the start of treatment in subclinical HF. On the contrary, conflicting evidence exists on the role of NPs as \n",
      "a guide to HF therapy. Among the other biomarkers, high-sensitivity troponins and soluble suppression of tumorigenesis-2 \n",
      "are the most promising biomarkers for risk stratification, with independent value to NPs. Other biomarkers evaluated as \n",
      "predictors of adverse outcome are galectin-3, growth differentiation factor 15, mid-regional pro-adrenomedullin, and makers \n",
      "of renal dysfunction. Multi-marker scores and genomic, transcriptomic, proteomic, and metabolomic analyses could further \n",
      "refine HF management.\n",
      "Keywords\n",
      " Biomark\n",
      "ers · Heart failure · Natriuretic peptides · Troponin · SST2 · Inflammation\n",
      "Heart failure (HF) is a syndrome characterized by the inabil-\n",
      "ity of the heart to pump enough blood and oxygen to sup-\n",
      "port the metabolic demands of other organs [1 ]. HF affects \n",
      "around 64 million of patients worldwide, and its prevalence \n",
      "is increasing due to population ageing, the growing burden \n",
      "of comorbidities and risk factors for HF, and the longer sur-\n",
      "vival after myocardial infarction [2].\n",
      "HF is commonly classified based on left ventricular \n",
      "ejection fraction (LVEF) into the categories of HF with \n",
      "preserved (HFpEF; LVEF\n",
      " ≥ 50%), mid-rang\n",
      "e (HFmrEF; \n",
      "LVEF 40–49%), and reduced ejection fraction (HFrEF; \n",
      "LVEF\n",
      " < 40%) \n",
      "[2]. HFpEF is predominantly characterized \n",
      "by diastolic dysfunction and often results from heart dam-\n",
      "age due to comorbidities (e.g., obesity, chronic kidney dis-\n",
      "ease (CKD), chronic obstructive pulmonary disease) or \n",
      "accumulation disorders (e.g., cardiac amyloidosis). HFrEF, \n",
      "on the other hand, is characterized prevalently by systolic \n",
      "dysfunction, secondary to a direct heart damage (such as \n",
      "an acute coronary syndrome), a cardiomyopathy or a valve \n",
      "disease [2]. While the pathophysiology of HFpEF is likely \n",
      "multifactorial, an imbalance in the neuroendocrine systems \n",
      "regulating cardiovascular homeostasis plays a central role \n",
      "in HFrEF. The sympathetic nervous system (SNS) and the \n",
      "renin–angiotensin–aldosterone system (RAAS) are over -\n",
      "activated and are not adequately counterbalanced by the \n",
      "increased release of natriuretic peptides (NPs). This imbal-\n",
      "ance promotes structural alterations leading to progressive \n",
      "hypertrophy and dilation of cardiac chambers. These altera-\n",
      "tions have detrimental effects on cardiac pump function, \n",
      "and ultimately lead to symptom development, as well as an \n",
      "increased susceptibility to arrhythmias and cardiac conduc-\n",
      "tion disorders [1].\n",
      "Thanks to the introduction of pharmacological thera-\n",
      "pies (beta-blockers, angiotensin-converting enzyme (ACE) \n",
      "inhibitors or angiotensin receptor blockers, mineralocor -\n",
      "ticoid receptor antagonists, neprilysin inhibitors, and, \n",
      "recently, sodium-glucose 2 co-transport inhibitors) and \n",
      "devices (implantable cardioverter defibrillator and cardiac \n",
      "resynchronisation therapy), the survival of HF patients has \n",
      "progressively improved. A careful use of biomarkers might \n",
      " * Alberto Aimo \n",
      " albert\n",
      "oaimo@libero.it; a.aimo@santannapisa.it\n",
      "1 Institute of Life Sciences, Scuola Superiore Sant’ Anna, Pisa, \n",
      "It\n",
      "aly\n",
      "2 Fondazione Toscana Gabriele Monasterio, Pisa, Italy\n",
      "/ Published online: 14 April 2021\n",
      "Heart Failure Reviews (2022) 27:625–643\n"
     ]
    }
   ],
   "source": [
    "print(chunks[0].content)"
   ]
  },
  {
   "cell_type": "markdown",
   "metadata": {},
   "source": [
    "## Document chunking"
   ]
  },
  {
   "cell_type": "code",
   "execution_count": 90,
   "metadata": {},
   "outputs": [
    {
     "name": "stdout",
     "output_type": "stream",
     "text": [
      "<agno.document.chunking.document.DocumentChunking object at 0x11ee3f550>\n"
     ]
    },
    {
     "data": {
      "text/html": [
       "<pre style=\"white-space:pre;overflow-x:auto;line-height:normal;font-family:Menlo,'DejaVu Sans Mono',consolas,'Courier New',monospace\"><span style=\"color: #000080; text-decoration-color: #000080\">INFO</span> Reading: heart_failure_review                                                                                 \n",
       "</pre>\n"
      ],
      "text/plain": [
       "\u001b[34mINFO\u001b[0m Reading: heart_failure_review                                                                                 \n"
      ]
     },
     "metadata": {},
     "output_type": "display_data"
    },
    {
     "name": "stdout",
     "output_type": "stream",
     "text": [
      "19\n",
      "Vol.:(0123456789)1 3\n",
      "h\n",
      "ttps://doi.org/10.1007/s10741-021-10105-w\n",
      "Biomarkers for the diagnosis and ma\n",
      "Chunk metadata: {'page': 1}\n",
      "1 3\n",
      "help refine the management of patients with HF and further \n",
      "improve their prognosis.\n",
      "Characteris\n",
      "Chunk metadata: {'page': 2}\n",
      "1 3\n",
      "Diagnosis\n",
      "In the Breathing Not Properly study, which included 1586 \n",
      "patients admitted to the eme\n",
      "Chunk metadata: {'page': 3}\n"
     ]
    }
   ],
   "source": [
    "from agno.document.chunking.document import DocumentChunking\n",
    "\n",
    "pdf_knowledge_base = PDFKnowledgeBase(\n",
    "    path=\"heart_failure_review.pdf\",\n",
    "    vector_db=vector_db,\n",
    "    reader=PDFReader(chunk=True),\n",
    "    chunking_strategy=DocumentChunking()\n",
    ")\n",
    "\n",
    "print(pdf_knowledge_base.chunking_strategy)\n",
    "chunks = list(pdf_knowledge_base.document_lists)[0]\n",
    "print(len(chunks))\n",
    "for chunk in chunks[:3]:\n",
    "    print(f\"{chunk.content[:100]}\")\n",
    "    print(f\"Chunk metadata: {chunk.meta_data}\")"
   ]
  },
  {
   "cell_type": "markdown",
   "metadata": {},
   "source": [
    "## Agentic chunking"
   ]
  },
  {
   "cell_type": "code",
   "execution_count": 84,
   "metadata": {},
   "outputs": [
    {
     "name": "stdout",
     "output_type": "stream",
     "text": [
      "<agno.document.chunking.agentic.AgenticChunking object at 0x11ee359d0>\n"
     ]
    },
    {
     "data": {
      "text/html": [
       "<pre style=\"white-space:pre;overflow-x:auto;line-height:normal;font-family:Menlo,'DejaVu Sans Mono',consolas,'Courier New',monospace\"><span style=\"color: #000080; text-decoration-color: #000080\">INFO</span> Reading: heart_failure_review                                                                                 \n",
       "</pre>\n"
      ],
      "text/plain": [
       "\u001b[34mINFO\u001b[0m Reading: heart_failure_review                                                                                 \n"
      ]
     },
     "metadata": {},
     "output_type": "display_data"
    },
    {
     "name": "stdout",
     "output_type": "stream",
     "text": [
      "38\n",
      "Vol.:(0123456789)1 3\n",
      "h\n",
      "ttps://doi.org/10.1007/s10741-021-10105-w\n",
      "Biomarkers for the diagnosis and ma\n",
      "Chunk metadata: {'page': 1}\n",
      "1 3\n",
      "help refine the management of patients with HF and further \n",
      "improve their prognosis.\n",
      "Characteris\n",
      "Chunk metadata: {'page': 2}\n",
      "1 3\n",
      "Diagnosis\n",
      "In the Breathing Not Properly study, which included 1586 \n",
      "patients admitted to the eme\n",
      "Chunk metadata: {'page': 3}\n"
     ]
    }
   ],
   "source": [
    "from agno.document.chunking.agentic import AgenticChunking\n",
    "\n",
    "pdf_knowledge_base = PDFKnowledgeBase(\n",
    "    path=\"heart_failure_review.pdf\",\n",
    "    vector_db=vector_db,\n",
    "    reader=PDFReader(chunk=True),\n",
    "    chunking_strategy=AgenticChunking()\n",
    ")\n",
    "\n",
    "print(pdf_knowledge_base.chunking_strategy)\n",
    "chunks = list(pdf_knowledge_base.document_lists)[0]\n",
    "print(len(chunks))\n",
    "for chunk in chunks[:3]:\n",
    "    print(f\"{chunk.content[:100]}\")\n",
    "    print(f\"Chunk metadata: {chunk.meta_data}\")"
   ]
  },
  {
   "cell_type": "markdown",
   "metadata": {},
   "source": [
    "# Retrieval"
   ]
  },
  {
   "cell_type": "markdown",
   "metadata": {},
   "source": [
    "## Simple retrieval"
   ]
  },
  {
   "cell_type": "code",
   "execution_count": 96,
   "metadata": {},
   "outputs": [
    {
     "data": {
      "text/html": [
       "<pre style=\"white-space:pre;overflow-x:auto;line-height:normal;font-family:Menlo,'DejaVu Sans Mono',consolas,'Courier New',monospace\"><span style=\"color: #000080; text-decoration-color: #000080\">INFO</span> Loading knowledge base                                                                                        \n",
       "</pre>\n"
      ],
      "text/plain": [
       "\u001b[34mINFO\u001b[0m Loading knowledge base                                                                                        \n"
      ]
     },
     "metadata": {},
     "output_type": "display_data"
    },
    {
     "data": {
      "text/html": [
       "<pre style=\"white-space:pre;overflow-x:auto;line-height:normal;font-family:Menlo,'DejaVu Sans Mono',consolas,'Courier New',monospace\"><span style=\"color: #000080; text-decoration-color: #000080\">INFO</span> Reading: heart_failure_review                                                                                 \n",
       "</pre>\n"
      ],
      "text/plain": [
       "\u001b[34mINFO\u001b[0m Reading: heart_failure_review                                                                                 \n"
      ]
     },
     "metadata": {},
     "output_type": "display_data"
    },
    {
     "data": {
      "text/html": [
       "<pre style=\"white-space:pre;overflow-x:auto;line-height:normal;font-family:Menlo,'DejaVu Sans Mono',consolas,'Courier New',monospace\"><span style=\"color: #000080; text-decoration-color: #000080\">INFO</span> Skipped <span style=\"color: #008080; text-decoration-color: #008080; font-weight: bold\">19</span> existing/duplicate documents.                                                                      \n",
       "</pre>\n"
      ],
      "text/plain": [
       "\u001b[34mINFO\u001b[0m Skipped \u001b[1;36m19\u001b[0m existing/duplicate documents.                                                                      \n"
      ]
     },
     "metadata": {},
     "output_type": "display_data"
    },
    {
     "data": {
      "text/html": [
       "<pre style=\"white-space:pre;overflow-x:auto;line-height:normal;font-family:Menlo,'DejaVu Sans Mono',consolas,'Courier New',monospace\"><span style=\"color: #000080; text-decoration-color: #000080\">INFO</span> Added <span style=\"color: #008080; text-decoration-color: #008080; font-weight: bold\">0</span> documents to knowledge base                                                                           \n",
       "</pre>\n"
      ],
      "text/plain": [
       "\u001b[34mINFO\u001b[0m Added \u001b[1;36m0\u001b[0m documents to knowledge base                                                                           \n"
      ]
     },
     "metadata": {},
     "output_type": "display_data"
    },
    {
     "data": {
      "text/html": [
       "<pre style=\"white-space:pre;overflow-x:auto;line-height:normal;font-family:Menlo,'DejaVu Sans Mono',consolas,'Courier New',monospace\"><span style=\"color: #000080; text-decoration-color: #000080\">INFO</span> Found <span style=\"color: #008080; text-decoration-color: #008080; font-weight: bold\">5</span> documents                                                                                             \n",
       "</pre>\n"
      ],
      "text/plain": [
       "\u001b[34mINFO\u001b[0m Found \u001b[1;36m5\u001b[0m documents                                                                                             \n"
      ]
     },
     "metadata": {},
     "output_type": "display_data"
    },
    {
     "name": "stdout",
     "output_type": "stream",
     "text": [
      "The comorbidities of heart failure include a variety of systemic conditions that often coexist with the primary cardiac disorder. Based on the information retrieved from the knowledge base, the key comorbidities include:\n",
      "\n",
      "1. Renal dysfunction and injury, such as elevated creatinine, decreased glomerular filtration rate (GFR), albuminuria, cystatin C, NGAL, KIM-1, NAG, FGF-23, β-trace protein, and β2-microglobulin.\n",
      "2. Hepatic dysfunction, indicated by abnormal levels of AST, ALT, GGT, and bilirubin.\n",
      "3. Hematological abnormalities, such as anemia and iron deficiency (ferritin, transferrin saturation).\n",
      "4. Endocrine-metabolic changes, including alterations in thyroid hormones (fT3, fT4, TSH), cortisol, adiponectin, orexin, leptin, resistin, IGF-1, and growth hormone.\n",
      "These comorbidities contribute to the complex pathophysiology and management considerations in patients with heart failure.\n"
     ]
    }
   ],
   "source": [
    "agent = Agent(\n",
    "    model=AzureOpenAI(id=model_name),\n",
    "    knowledge=pdf_knowledge_base,\n",
    "    search_knowledge=True,\n",
    ")\n",
    "agent.knowledge.load()\n",
    "\n",
    "res = agent.run(\"List the comorbidities of heart failure.\")\n",
    "print(res.content)"
   ]
  },
  {
   "cell_type": "markdown",
   "metadata": {},
   "source": [
    "## Using instructions"
   ]
  },
  {
   "cell_type": "code",
   "execution_count": 127,
   "metadata": {},
   "outputs": [
    {
     "data": {
      "text/html": [
       "<pre style=\"white-space:pre;overflow-x:auto;line-height:normal;font-family:Menlo,'DejaVu Sans Mono',consolas,'Courier New',monospace\"><span style=\"color: #000080; text-decoration-color: #000080\">INFO</span> Loading knowledge base                                                                                        \n",
       "</pre>\n"
      ],
      "text/plain": [
       "\u001b[34mINFO\u001b[0m Loading knowledge base                                                                                        \n"
      ]
     },
     "metadata": {},
     "output_type": "display_data"
    },
    {
     "data": {
      "text/html": [
       "<pre style=\"white-space:pre;overflow-x:auto;line-height:normal;font-family:Menlo,'DejaVu Sans Mono',consolas,'Courier New',monospace\"><span style=\"color: #000080; text-decoration-color: #000080\">INFO</span> Reading: heart_failure_review                                                                                 \n",
       "</pre>\n"
      ],
      "text/plain": [
       "\u001b[34mINFO\u001b[0m Reading: heart_failure_review                                                                                 \n"
      ]
     },
     "metadata": {},
     "output_type": "display_data"
    },
    {
     "data": {
      "text/html": [
       "<pre style=\"white-space:pre;overflow-x:auto;line-height:normal;font-family:Menlo,'DejaVu Sans Mono',consolas,'Courier New',monospace\"><span style=\"color: #000080; text-decoration-color: #000080\">INFO</span> Skipped <span style=\"color: #008080; text-decoration-color: #008080; font-weight: bold\">19</span> existing/duplicate documents.                                                                      \n",
       "</pre>\n"
      ],
      "text/plain": [
       "\u001b[34mINFO\u001b[0m Skipped \u001b[1;36m19\u001b[0m existing/duplicate documents.                                                                      \n"
      ]
     },
     "metadata": {},
     "output_type": "display_data"
    },
    {
     "data": {
      "text/html": [
       "<pre style=\"white-space:pre;overflow-x:auto;line-height:normal;font-family:Menlo,'DejaVu Sans Mono',consolas,'Courier New',monospace\"><span style=\"color: #000080; text-decoration-color: #000080\">INFO</span> Added <span style=\"color: #008080; text-decoration-color: #008080; font-weight: bold\">0</span> documents to knowledge base                                                                           \n",
       "</pre>\n"
      ],
      "text/plain": [
       "\u001b[34mINFO\u001b[0m Added \u001b[1;36m0\u001b[0m documents to knowledge base                                                                           \n"
      ]
     },
     "metadata": {},
     "output_type": "display_data"
    },
    {
     "data": {
      "text/html": [
       "<pre style=\"white-space:pre;overflow-x:auto;line-height:normal;font-family:Menlo,'DejaVu Sans Mono',consolas,'Courier New',monospace\"><span style=\"color: #000080; text-decoration-color: #000080\">INFO</span> Found <span style=\"color: #008080; text-decoration-color: #008080; font-weight: bold\">5</span> documents                                                                                             \n",
       "</pre>\n"
      ],
      "text/plain": [
       "\u001b[34mINFO\u001b[0m Found \u001b[1;36m5\u001b[0m documents                                                                                             \n"
      ]
     },
     "metadata": {},
     "output_type": "display_data"
    },
    {
     "name": "stdout",
     "output_type": "stream",
     "text": [
      "The comorbidities of heart failure include both cardiovascular and non-cardiovascular conditions. According to the source \"Leveraging Natural Learning Processing to Uncover Themes in Clinical Notes of Patients Admitted for Heart Failure,\" patients with heart failure can have \"both cardiovascular as well as non-cardiovascular comorbidities.\"\n",
      "\n",
      "From the \"heart_failure_review\" source, the comorbidities and related biomarkers or conditions associated with heart failure are detailed as follows:\n",
      "\n",
      "1. Renal function and injury:\n",
      "   - Creatinine/GFR\n",
      "   - Plasma albumin, albuminuria\n",
      "   - Urinary albumin/creatinine ratio\n",
      "   - Cystatin C\n",
      "   - NGAL (neutrophil gelatinase-associated lipocalin)\n",
      "   - KIM-1 (kidney injury molecule-1)\n",
      "   - NAG (N-acetyl-β-(D)-glucosaminidase)\n",
      "   - FGF-23 (fibroblast growth factor-23)\n",
      "   - β-trace protein\n",
      "   - β2-microglobulin\n",
      "\n",
      "2. Hepatic function:\n",
      "   - AST (aspartate aminotransferase)\n",
      "   - ALT (alanine aminotransferase)\n",
      "   - GGT (gamma-glutamyl transferase)\n",
      "   - Bilirubin\n",
      "\n",
      "3. Hematological parameters:\n",
      "   - Hemoglobin\n",
      "   - Iron deficiency (ferritin, transferrin saturation)\n",
      "   - RDW (red cell distribution width)\n",
      "\n",
      "4. Endocrine-metabolic changes:\n",
      "   - fT3, fT4, TSH (thyroid hormones and thyroid-stimulating hormone)\n",
      "   - Cortisol\n",
      "   - Adiponectin\n",
      "   - Orexin\n",
      "   - Leptin\n",
      "   - Resistin\n",
      "   - IGF-1 (insulin-like growth factor 1), GH (growth hormone)\n",
      "   - miRNA\n",
      "\n",
      "These comorbidities reflect the multi-organ involvement and systemic nature of heart failure, affecting renal, hepatic, hematological, and endocrine-metabolic systems.\n",
      "\n",
      "References:\n",
      "- \"Leveraging Natural Learning Processing to Uncover Themes in Clinical Notes of Patients Admitted for Heart Failure\" (mentions cardiovascular and non-cardiovascular comorbidities)\n",
      "- \"heart_failure_review,\" Table 5 Heart failure biomarkers, section \"Comorbidity\" (pages 8-9)\n"
     ]
    }
   ],
   "source": [
    "agent = Agent(\n",
    "    model=AzureOpenAI(id=model_name, temperature=0),\n",
    "    knowledge=pdf_knowledge_base,\n",
    "    instructions=[\n",
    "        \"Cite the exact phrases and section titles from the sources in your response.\",\n",
    "        \"Use enumerations to organize your response.\",\n",
    "        \"Do not write any other text than the response.\",\n",
    "    ],\n",
    "    search_knowledge=True,\n",
    ")\n",
    "agent.knowledge.load()\n",
    "\n",
    "res = agent.run(\"List the comorbidities of heart failure.\")\n",
    "print(res.content)  \n"
   ]
  },
  {
   "cell_type": "markdown",
   "metadata": {},
   "source": [
    "## Using structured outputs"
   ]
  },
  {
   "cell_type": "code",
   "execution_count": 125,
   "metadata": {},
   "outputs": [
    {
     "data": {
      "text/html": [
       "<pre style=\"white-space:pre;overflow-x:auto;line-height:normal;font-family:Menlo,'DejaVu Sans Mono',consolas,'Courier New',monospace\"><span style=\"color: #000080; text-decoration-color: #000080\">INFO</span> Loading knowledge base                                                                                        \n",
       "</pre>\n"
      ],
      "text/plain": [
       "\u001b[34mINFO\u001b[0m Loading knowledge base                                                                                        \n"
      ]
     },
     "metadata": {},
     "output_type": "display_data"
    },
    {
     "data": {
      "text/html": [
       "<pre style=\"white-space:pre;overflow-x:auto;line-height:normal;font-family:Menlo,'DejaVu Sans Mono',consolas,'Courier New',monospace\"><span style=\"color: #000080; text-decoration-color: #000080\">INFO</span> Reading: heart_failure_review                                                                                 \n",
       "</pre>\n"
      ],
      "text/plain": [
       "\u001b[34mINFO\u001b[0m Reading: heart_failure_review                                                                                 \n"
      ]
     },
     "metadata": {},
     "output_type": "display_data"
    },
    {
     "data": {
      "text/html": [
       "<pre style=\"white-space:pre;overflow-x:auto;line-height:normal;font-family:Menlo,'DejaVu Sans Mono',consolas,'Courier New',monospace\"><span style=\"color: #000080; text-decoration-color: #000080\">INFO</span> Skipped <span style=\"color: #008080; text-decoration-color: #008080; font-weight: bold\">19</span> existing/duplicate documents.                                                                      \n",
       "</pre>\n"
      ],
      "text/plain": [
       "\u001b[34mINFO\u001b[0m Skipped \u001b[1;36m19\u001b[0m existing/duplicate documents.                                                                      \n"
      ]
     },
     "metadata": {},
     "output_type": "display_data"
    },
    {
     "data": {
      "text/html": [
       "<pre style=\"white-space:pre;overflow-x:auto;line-height:normal;font-family:Menlo,'DejaVu Sans Mono',consolas,'Courier New',monospace\"><span style=\"color: #000080; text-decoration-color: #000080\">INFO</span> Added <span style=\"color: #008080; text-decoration-color: #008080; font-weight: bold\">0</span> documents to knowledge base                                                                           \n",
       "</pre>\n"
      ],
      "text/plain": [
       "\u001b[34mINFO\u001b[0m Added \u001b[1;36m0\u001b[0m documents to knowledge base                                                                           \n"
      ]
     },
     "metadata": {},
     "output_type": "display_data"
    },
    {
     "data": {
      "text/html": [
       "<pre style=\"white-space:pre;overflow-x:auto;line-height:normal;font-family:Menlo,'DejaVu Sans Mono',consolas,'Courier New',monospace\"><span style=\"color: #808000; text-decoration-color: #808000\">WARNING </span> Error retrieving structured outputs: <span style=\"color: #008000; text-decoration-color: #008000\">'ChatCompletionMessage'</span> object has no attribute <span style=\"color: #008000; text-decoration-color: #008000\">'parsed'</span>             \n",
       "</pre>\n"
      ],
      "text/plain": [
       "\u001b[33mWARNING \u001b[0m Error retrieving structured outputs: \u001b[32m'ChatCompletionMessage'\u001b[0m object has no attribute \u001b[32m'parsed'\u001b[0m             \n"
      ]
     },
     "metadata": {},
     "output_type": "display_data"
    },
    {
     "data": {
      "text/html": [
       "<pre style=\"white-space:pre;overflow-x:auto;line-height:normal;font-family:Menlo,'DejaVu Sans Mono',consolas,'Courier New',monospace\"><span style=\"color: #000080; text-decoration-color: #000080\">INFO</span> Found <span style=\"color: #008080; text-decoration-color: #008080; font-weight: bold\">5</span> documents                                                                                             \n",
       "</pre>\n"
      ],
      "text/plain": [
       "\u001b[34mINFO\u001b[0m Found \u001b[1;36m5\u001b[0m documents                                                                                             \n"
      ]
     },
     "metadata": {},
     "output_type": "display_data"
    },
    {
     "data": {
      "text/html": [
       "<pre style=\"white-space:pre;overflow-x:auto;line-height:normal;font-family:Menlo,'DejaVu Sans Mono',consolas,'Courier New',monospace\"><span style=\"color: #808000; text-decoration-color: #808000\">WARNING </span> Error retrieving structured outputs: <span style=\"color: #008000; text-decoration-color: #008000\">'ChatCompletionMessage'</span> object has no attribute <span style=\"color: #008000; text-decoration-color: #008000\">'parsed'</span>             \n",
       "</pre>\n"
      ],
      "text/plain": [
       "\u001b[33mWARNING \u001b[0m Error retrieving structured outputs: \u001b[32m'ChatCompletionMessage'\u001b[0m object has no attribute \u001b[32m'parsed'\u001b[0m             \n"
      ]
     },
     "metadata": {},
     "output_type": "display_data"
    },
    {
     "data": {
      "text/plain": [
       "[Comorbidity(comorbidity='Cardiovascular comorbidities', symptoms=['Heart not able to pump blood and oxygen effectively'], treatment=['Medications', 'Hospitalization'], prevalence=0.0),\n",
       " Comorbidity(comorbidity='Non-cardiovascular comorbidities', symptoms=['Various symptoms depending on specific comorbidity'], treatment=['Varies depending on comorbidity'], prevalence=0.0)]"
      ]
     },
     "execution_count": 125,
     "metadata": {},
     "output_type": "execute_result"
    }
   ],
   "source": [
    "from pydantic import BaseModel, Field\n",
    "\n",
    "class Comorbidity(BaseModel):\n",
    "    comorbidity: str = Field(description=\"Comorbidity\")\n",
    "    symptoms: list[str] = Field(description=\"Symptoms of the comorbidity\")\n",
    "    treatment: list[str] = Field(description=\"Treatment for the comorbidity\")\n",
    "    prevalence: float = Field(description=\"Prevalence of the comorbidity\")\n",
    "\n",
    "class ComorbiditiesList(BaseModel):\n",
    "    comorbidities: list[Comorbidity] = Field(description=\"List of comorbidities\")\n",
    "    \n",
    "agent = Agent(\n",
    "    model=AzureOpenAI(id=model_name),\n",
    "    knowledge=pdf_knowledge_base,\n",
    "    instructions=[\n",
    "        \"Cite the exact phrases and section titles from the sources in your response.\",\n",
    "        \"Use enumerations to organize your response.\",\n",
    "        \"Do not write any other text than the response.\",\n",
    "    ],\n",
    "    response_model=ComorbiditiesList,\n",
    "    search_knowledge=True,\n",
    ")\n",
    "agent.knowledge.load()\n",
    "\n",
    "res = agent.run(\"List the comorbidities of heart failure.\")\n",
    "res.content.comorbidities"
   ]
  },
  {
   "cell_type": "markdown",
   "metadata": {},
   "source": [
    "## Using other Knowledge Sources"
   ]
  },
  {
   "cell_type": "markdown",
   "metadata": {},
   "source": [
    "### ArXiv"
   ]
  },
  {
   "cell_type": "code",
   "execution_count": 115,
   "metadata": {},
   "outputs": [
    {
     "data": {
      "text/html": [
       "<pre style=\"white-space:pre;overflow-x:auto;line-height:normal;font-family:Menlo,'DejaVu Sans Mono',consolas,'Courier New',monospace\"><span style=\"color: #000080; text-decoration-color: #000080\">INFO</span> Loading knowledge base                                                                                        \n",
       "</pre>\n"
      ],
      "text/plain": [
       "\u001b[34mINFO\u001b[0m Loading knowledge base                                                                                        \n"
      ]
     },
     "metadata": {},
     "output_type": "display_data"
    },
    {
     "data": {
      "text/html": [
       "<pre style=\"white-space:pre;overflow-x:auto;line-height:normal;font-family:Menlo,'DejaVu Sans Mono',consolas,'Courier New',monospace\"><span style=\"color: #000080; text-decoration-color: #000080\">INFO</span> Added <span style=\"color: #008080; text-decoration-color: #008080; font-weight: bold\">5</span> documents to knowledge base                                                                           \n",
       "</pre>\n"
      ],
      "text/plain": [
       "\u001b[34mINFO\u001b[0m Added \u001b[1;36m5\u001b[0m documents to knowledge base                                                                           \n"
      ]
     },
     "metadata": {},
     "output_type": "display_data"
    },
    {
     "data": {
      "text/html": [
       "<pre style=\"white-space:pre;overflow-x:auto;line-height:normal;font-family:Menlo,'DejaVu Sans Mono',consolas,'Courier New',monospace\"><span style=\"color: #000080; text-decoration-color: #000080\">INFO</span> Loading knowledge base                                                                                        \n",
       "</pre>\n"
      ],
      "text/plain": [
       "\u001b[34mINFO\u001b[0m Loading knowledge base                                                                                        \n"
      ]
     },
     "metadata": {},
     "output_type": "display_data"
    },
    {
     "data": {
      "text/html": [
       "<pre style=\"white-space:pre;overflow-x:auto;line-height:normal;font-family:Menlo,'DejaVu Sans Mono',consolas,'Courier New',monospace\"><span style=\"color: #000080; text-decoration-color: #000080\">INFO</span> Skipped <span style=\"color: #008080; text-decoration-color: #008080; font-weight: bold\">5</span> existing/duplicate documents.                                                                       \n",
       "</pre>\n"
      ],
      "text/plain": [
       "\u001b[34mINFO\u001b[0m Skipped \u001b[1;36m5\u001b[0m existing/duplicate documents.                                                                       \n"
      ]
     },
     "metadata": {},
     "output_type": "display_data"
    },
    {
     "data": {
      "text/html": [
       "<pre style=\"white-space:pre;overflow-x:auto;line-height:normal;font-family:Menlo,'DejaVu Sans Mono',consolas,'Courier New',monospace\"><span style=\"color: #000080; text-decoration-color: #000080\">INFO</span> Added <span style=\"color: #008080; text-decoration-color: #008080; font-weight: bold\">0</span> documents to knowledge base                                                                           \n",
       "</pre>\n"
      ],
      "text/plain": [
       "\u001b[34mINFO\u001b[0m Added \u001b[1;36m0\u001b[0m documents to knowledge base                                                                           \n"
      ]
     },
     "metadata": {},
     "output_type": "display_data"
    },
    {
     "data": {
      "text/html": [
       "<pre style=\"white-space:pre;overflow-x:auto;line-height:normal;font-family:Menlo,'DejaVu Sans Mono',consolas,'Courier New',monospace\"><span style=\"color: #000080; text-decoration-color: #000080\">INFO</span> Found <span style=\"color: #008080; text-decoration-color: #008080; font-weight: bold\">5</span> documents                                                                                             \n",
       "</pre>\n"
      ],
      "text/plain": [
       "\u001b[34mINFO\u001b[0m Found \u001b[1;36m5\u001b[0m documents                                                                                             \n"
      ]
     },
     "metadata": {},
     "output_type": "display_data"
    },
    {
     "name": "stdout",
     "output_type": "stream",
     "text": [
      "The latest research on heart failure encompasses various aspects including diagnostics, biomarkers, pathophysiology, and management strategies. Key highlights are as follows:\n",
      "\n",
      "1. **Biomarkers in Heart Failure Management**: Circulating biomarkers such as natriuretic peptides (BNP, NT-proBNP), high-sensitivity troponins, and soluble ST2 are crucial for diagnosis, risk stratification, and potentially guiding therapy. Multi-marker and omics approaches (genomic, transcriptomic, proteomic, metabolomic) are being explored to refine patient management.\n",
      "\n",
      "2. **Pathophysiology Insights**: Heart failure (HF) affects approximately 64 million people worldwide, with its prevalence rising due to aging populations and increasing comorbidities. HF is classified into HF with preserved ejection fraction (HFpEF), mid-range (HFmrEF), and reduced ejection fraction (HFrEF). Imbalances in neuroendocrine systems, especially overactivation of the sympathetic nervous system and renin-angiotensin-aldosterone system, play a central role, leading to structural and functional cardiac changes.\n",
      "\n",
      "3. **Therapeutic Advances**: The introduction of pharmacological therapies (beta-blockers, ACE inhibitors, mineralocorticoid receptor antagonists, neprilysin inhibitors, SGLT2 inhibitors) and devices (implantable defibrillators, cardiac resynchronization therapy) has improved survival outcomes. Biomarkers can assist in early detection and optimized treatment strategies.\n",
      "\n",
      "4. **Emerging Research Areas**: The utilization of multi-omics analyses and the development of multi-marker scores may further enhance prognostic accuracy and personalized treatment in HF.\n",
      "\n",
      "Would you like detailed information from specific studies or topics within this research?\n"
     ]
    }
   ],
   "source": [
    "from agno.knowledge.arxiv import ArxivKnowledgeBase\n",
    "\n",
    "knowledge_base = ArxivKnowledgeBase(\n",
    "    queries=[\"heart failure\"],\n",
    "    vector_db=vector_db,\n",
    ")\n",
    "knowledge_base.load()\n",
    "\n",
    "agent = Agent(\n",
    "    model=AzureOpenAI(id=model_name),\n",
    "    knowledge=knowledge_base,\n",
    "    search_knowledge=True,\n",
    ")\n",
    "agent.knowledge.load()\n",
    "\n",
    "res = agent.run(\"What is the latest research on heart failure?\")\n",
    "print(res.content)"
   ]
  },
  {
   "cell_type": "code",
   "execution_count": 122,
   "metadata": {},
   "outputs": [
    {
     "name": "stdout",
     "output_type": "stream",
     "text": [
      "Predicting Heart Failure with Attention Learning Techniques Utilizing Cardiovascular Data\n",
      "{'pdf_url': 'http://arxiv.org/pdf/2407.08289v1', 'article_links': 'http://arxiv.org/abs/2407.08289v1, http://arxiv.org/pdf/2407.08289v1'}\n",
      "Cardiovascular diseases (CVDs) encompass a group of disorders affecting the\n",
      "heart and blood vessels,\n",
      "----------------------------------------------------------------------------------------------------\n",
      "Leveraging Natural Learning Processing to Uncover Themes in Clinical Notes of Patients Admitted for Heart Failure\n",
      "{'pdf_url': 'http://arxiv.org/pdf/2204.07074v1', 'article_links': 'http://arxiv.org/abs/2204.07074v1, http://arxiv.org/pdf/2204.07074v1'}\n",
      "Heart failure occurs when the heart is not able to pump blood and oxygen to\n",
      "support other organs in \n",
      "----------------------------------------------------------------------------------------------------\n",
      "Automated Identification of Drug-Drug Interactions in Pediatric Congestive Heart Failure Patients\n",
      "{'pdf_url': 'http://arxiv.org/pdf/1702.04615v1', 'article_links': 'http://arxiv.org/abs/1702.04615v1, http://arxiv.org/pdf/1702.04615v1'}\n",
      "Congestive Heart Failure, or CHF, is a serious medical condition that can\n",
      "result in fluid buildup in\n",
      "----------------------------------------------------------------------------------------------------\n",
      "Quantification of Trabeculae Inside the Heart from MRI Using Fractal Analysis\n",
      "{'pdf_url': 'http://arxiv.org/pdf/1810.04637v2', 'article_links': 'http://arxiv.org/abs/1810.04637v2, http://arxiv.org/pdf/1810.04637v2'}\n",
      "Left ventricular non-compaction (LVNC) is a rare cardiomyopathy (CMP) that\n",
      "should be considered as a\n",
      "----------------------------------------------------------------------------------------------------\n",
      "Using Natural Language Processing to Screen Patients with Active Heart Failure: An Exploration for Hospital-wide Surveillance\n",
      "{'pdf_url': 'http://arxiv.org/pdf/1609.01580v1', 'article_links': 'http://arxiv.org/abs/1609.01580v1, http://arxiv.org/pdf/1609.01580v1'}\n",
      "In this paper, we proposed two different approaches, a rule-based approach\n",
      "and a machine-learning ba\n",
      "----------------------------------------------------------------------------------------------------\n"
     ]
    }
   ],
   "source": [
    "for doc in list(knowledge_base.document_lists)[0]:\n",
    "    print(doc.name)\n",
    "    print(doc.meta_data)\n",
    "    print(doc.content[:100])\n",
    "    print(\"-\"*100)"
   ]
  },
  {
   "cell_type": "markdown",
   "metadata": {},
   "source": [
    "### Websites"
   ]
  },
  {
   "cell_type": "code",
   "execution_count": 128,
   "metadata": {},
   "outputs": [
    {
     "data": {
      "text/html": [
       "<pre style=\"white-space:pre;overflow-x:auto;line-height:normal;font-family:Menlo,'DejaVu Sans Mono',consolas,'Courier New',monospace\"><span style=\"color: #000080; text-decoration-color: #000080\">INFO</span> Loading knowledge base                                                                                        \n",
       "</pre>\n"
      ],
      "text/plain": [
       "\u001b[34mINFO\u001b[0m Loading knowledge base                                                                                        \n"
      ]
     },
     "metadata": {},
     "output_type": "display_data"
    },
    {
     "data": {
      "text/html": [
       "<pre style=\"white-space:pre;overflow-x:auto;line-height:normal;font-family:Menlo,'DejaVu Sans Mono',consolas,'Courier New',monospace\"><span style=\"color: #000080; text-decoration-color: #000080\">INFO</span> Loading knowledge base                                                                                        \n",
       "</pre>\n"
      ],
      "text/plain": [
       "\u001b[34mINFO\u001b[0m Loading knowledge base                                                                                        \n"
      ]
     },
     "metadata": {},
     "output_type": "display_data"
    },
    {
     "data": {
      "text/html": [
       "<pre style=\"white-space:pre;overflow-x:auto;line-height:normal;font-family:Menlo,'DejaVu Sans Mono',consolas,'Courier New',monospace\"><span style=\"color: #000080; text-decoration-color: #000080\">INFO</span> Found <span style=\"color: #008080; text-decoration-color: #008080; font-weight: bold\">5</span> documents                                                                                             \n",
       "</pre>\n"
      ],
      "text/plain": [
       "\u001b[34mINFO\u001b[0m Found \u001b[1;36m5\u001b[0m documents                                                                                             \n"
      ]
     },
     "metadata": {},
     "output_type": "display_data"
    },
    {
     "name": "stdout",
     "output_type": "stream",
     "text": [
      "Preventive measures for heart failure focus on managing risk factors and optimizing treatments to prevent the development or progression of the condition. Key strategies include:\n",
      "\n",
      "1. Screening and Early Detection: Using biomarkers such as B-type natriuretic peptide (BNP) and N-terminal pro-B-type natriuretic peptide (NT-proBNP) to screen individuals at risk can help in early diagnosis and intervention to prevent heart failure.\n",
      "\n",
      "2. Managing Comorbidities: Control of underlying conditions like hypertension, diabetes, obesity, chronic kidney disease, and chronic obstructive pulmonary disease is crucial since these contribute to heart damage and heart failure.\n",
      "\n",
      "3. Pharmacological Therapy: Use of medications that target neuroendocrine pathways such as beta-blockers, angiotensin-converting enzyme (ACE) inhibitors, angiotensin receptor blockers (ARBs), mineralocorticoid receptor antagonists, neprilysin inhibitors, and sodium-glucose co-transporter 2 inhibitors has been shown to improve outcomes and prevent the progression to heart failure.\n",
      "\n",
      "4. Lifestyle Modifications: Maintaining a healthy diet, regular physical activity, smoking cessation, and weight management are essential preventive measures.\n",
      "\n",
      "5. Monitoring and treating elevated cardiovascular risk factors and symptoms before they lead to structural heart disease can prevent left ventricular dysfunction.\n",
      "\n",
      "6. Addressing anemia and iron deficiency as these have prognostic implications in heart failure risk and progression.\n",
      "\n",
      "Overall, a combination of biomarker-guided screening, early therapeutic intervention, lifestyle changes, and management of comorbidities are effective preventive measures against heart failure. If you want, I can also summarize specific guidelines or preventive protocols from professional societies.\n"
     ]
    }
   ],
   "source": [
    "url = \"https://pmc.ncbi.nlm.nih.gov/articles/PMC1955040/\"\n",
    "\n",
    "from agno.knowledge.website import WebsiteKnowledgeBase\n",
    "\n",
    "knowledge_base = WebsiteKnowledgeBase(\n",
    "    url=url,\n",
    "    vector_db=vector_db,\n",
    ")\n",
    "knowledge_base.load()\n",
    "\n",
    "agent = Agent(\n",
    "    model=AzureOpenAI(id=model_name),\n",
    "    knowledge=knowledge_base,\n",
    "    search_knowledge=True,\n",
    ")\n",
    "agent.knowledge.load()\n",
    "\n",
    "res = agent.run(\"What are preventive measures for heart failure?\")\n",
    "print(res.content)"
   ]
  },
  {
   "cell_type": "markdown",
   "metadata": {},
   "source": [
    "### CSV files"
   ]
  },
  {
   "cell_type": "code",
   "execution_count": 138,
   "metadata": {},
   "outputs": [
    {
     "data": {
      "text/html": [
       "<div>\n",
       "<style scoped>\n",
       "    .dataframe tbody tr th:only-of-type {\n",
       "        vertical-align: middle;\n",
       "    }\n",
       "\n",
       "    .dataframe tbody tr th {\n",
       "        vertical-align: top;\n",
       "    }\n",
       "\n",
       "    .dataframe thead th {\n",
       "        text-align: right;\n",
       "    }\n",
       "</style>\n",
       "<table border=\"1\" class=\"dataframe\">\n",
       "  <thead>\n",
       "    <tr style=\"text-align: right;\">\n",
       "      <th></th>\n",
       "      <th>Age</th>\n",
       "      <th>Sex</th>\n",
       "      <th>ChestPainType</th>\n",
       "      <th>RestingBP</th>\n",
       "      <th>Cholesterol</th>\n",
       "      <th>FastingBS</th>\n",
       "      <th>RestingECG</th>\n",
       "      <th>MaxHR</th>\n",
       "      <th>ExerciseAngina</th>\n",
       "      <th>Oldpeak</th>\n",
       "      <th>ST_Slope</th>\n",
       "      <th>HeartDisease</th>\n",
       "    </tr>\n",
       "  </thead>\n",
       "  <tbody>\n",
       "    <tr>\n",
       "      <th>0</th>\n",
       "      <td>40</td>\n",
       "      <td>M</td>\n",
       "      <td>ATA</td>\n",
       "      <td>140</td>\n",
       "      <td>289</td>\n",
       "      <td>0</td>\n",
       "      <td>Normal</td>\n",
       "      <td>172</td>\n",
       "      <td>N</td>\n",
       "      <td>0.0</td>\n",
       "      <td>Up</td>\n",
       "      <td>0</td>\n",
       "    </tr>\n",
       "    <tr>\n",
       "      <th>1</th>\n",
       "      <td>49</td>\n",
       "      <td>F</td>\n",
       "      <td>NAP</td>\n",
       "      <td>160</td>\n",
       "      <td>180</td>\n",
       "      <td>0</td>\n",
       "      <td>Normal</td>\n",
       "      <td>156</td>\n",
       "      <td>N</td>\n",
       "      <td>1.0</td>\n",
       "      <td>Flat</td>\n",
       "      <td>1</td>\n",
       "    </tr>\n",
       "    <tr>\n",
       "      <th>2</th>\n",
       "      <td>37</td>\n",
       "      <td>M</td>\n",
       "      <td>ATA</td>\n",
       "      <td>130</td>\n",
       "      <td>283</td>\n",
       "      <td>0</td>\n",
       "      <td>ST</td>\n",
       "      <td>98</td>\n",
       "      <td>N</td>\n",
       "      <td>0.0</td>\n",
       "      <td>Up</td>\n",
       "      <td>0</td>\n",
       "    </tr>\n",
       "    <tr>\n",
       "      <th>3</th>\n",
       "      <td>48</td>\n",
       "      <td>F</td>\n",
       "      <td>ASY</td>\n",
       "      <td>138</td>\n",
       "      <td>214</td>\n",
       "      <td>0</td>\n",
       "      <td>Normal</td>\n",
       "      <td>108</td>\n",
       "      <td>Y</td>\n",
       "      <td>1.5</td>\n",
       "      <td>Flat</td>\n",
       "      <td>1</td>\n",
       "    </tr>\n",
       "    <tr>\n",
       "      <th>4</th>\n",
       "      <td>54</td>\n",
       "      <td>M</td>\n",
       "      <td>NAP</td>\n",
       "      <td>150</td>\n",
       "      <td>195</td>\n",
       "      <td>0</td>\n",
       "      <td>Normal</td>\n",
       "      <td>122</td>\n",
       "      <td>N</td>\n",
       "      <td>0.0</td>\n",
       "      <td>Up</td>\n",
       "      <td>0</td>\n",
       "    </tr>\n",
       "  </tbody>\n",
       "</table>\n",
       "</div>"
      ],
      "text/plain": [
       "   Age Sex ChestPainType  RestingBP  Cholesterol  FastingBS RestingECG  MaxHR  \\\n",
       "0   40   M           ATA        140          289          0     Normal    172   \n",
       "1   49   F           NAP        160          180          0     Normal    156   \n",
       "2   37   M           ATA        130          283          0         ST     98   \n",
       "3   48   F           ASY        138          214          0     Normal    108   \n",
       "4   54   M           NAP        150          195          0     Normal    122   \n",
       "\n",
       "  ExerciseAngina  Oldpeak ST_Slope  HeartDisease  \n",
       "0              N      0.0       Up             0  \n",
       "1              N      1.0     Flat             1  \n",
       "2              N      0.0       Up             0  \n",
       "3              Y      1.5     Flat             1  \n",
       "4              N      0.0       Up             0  "
      ]
     },
     "execution_count": 138,
     "metadata": {},
     "output_type": "execute_result"
    }
   ],
   "source": [
    "heart_df = pd.read_csv(\"heart.csv\")\n",
    "heart_df.head()"
   ]
  },
  {
   "cell_type": "code",
   "execution_count": 137,
   "metadata": {},
   "outputs": [
    {
     "data": {
      "text/html": [
       "<pre style=\"white-space:pre;overflow-x:auto;line-height:normal;font-family:Menlo,'DejaVu Sans Mono',consolas,'Courier New',monospace\"><span style=\"color: #000080; text-decoration-color: #000080\">INFO</span> Loading knowledge base                                                                                        \n",
       "</pre>\n"
      ],
      "text/plain": [
       "\u001b[34mINFO\u001b[0m Loading knowledge base                                                                                        \n"
      ]
     },
     "metadata": {},
     "output_type": "display_data"
    },
    {
     "data": {
      "text/html": [
       "<pre style=\"white-space:pre;overflow-x:auto;line-height:normal;font-family:Menlo,'DejaVu Sans Mono',consolas,'Courier New',monospace\"><span style=\"color: #000080; text-decoration-color: #000080\">INFO</span> Reading: heart.csv                                                                                            \n",
       "</pre>\n"
      ],
      "text/plain": [
       "\u001b[34mINFO\u001b[0m Reading: heart.csv                                                                                            \n"
      ]
     },
     "metadata": {},
     "output_type": "display_data"
    },
    {
     "data": {
      "text/html": [
       "<pre style=\"white-space:pre;overflow-x:auto;line-height:normal;font-family:Menlo,'DejaVu Sans Mono',consolas,'Courier New',monospace\"><span style=\"color: #000080; text-decoration-color: #000080\">INFO</span> Skipped <span style=\"color: #008080; text-decoration-color: #008080; font-weight: bold\">10</span> existing/duplicate documents.                                                                      \n",
       "</pre>\n"
      ],
      "text/plain": [
       "\u001b[34mINFO\u001b[0m Skipped \u001b[1;36m10\u001b[0m existing/duplicate documents.                                                                      \n"
      ]
     },
     "metadata": {},
     "output_type": "display_data"
    },
    {
     "data": {
      "text/html": [
       "<pre style=\"white-space:pre;overflow-x:auto;line-height:normal;font-family:Menlo,'DejaVu Sans Mono',consolas,'Courier New',monospace\"><span style=\"color: #000080; text-decoration-color: #000080\">INFO</span> Added <span style=\"color: #008080; text-decoration-color: #008080; font-weight: bold\">0</span> documents to knowledge base                                                                           \n",
       "</pre>\n"
      ],
      "text/plain": [
       "\u001b[34mINFO\u001b[0m Added \u001b[1;36m0\u001b[0m documents to knowledge base                                                                           \n"
      ]
     },
     "metadata": {},
     "output_type": "display_data"
    },
    {
     "data": {
      "text/html": [
       "<pre style=\"white-space:pre;overflow-x:auto;line-height:normal;font-family:Menlo,'DejaVu Sans Mono',consolas,'Courier New',monospace\"><span style=\"color: #000080; text-decoration-color: #000080\">INFO</span> Found <span style=\"color: #008080; text-decoration-color: #008080; font-weight: bold\">5</span> documents                                                                                             \n",
       "</pre>\n"
      ],
      "text/plain": [
       "\u001b[34mINFO\u001b[0m Found \u001b[1;36m5\u001b[0m documents                                                                                             \n"
      ]
     },
     "metadata": {},
     "output_type": "display_data"
    },
    {
     "name": "stdout",
     "output_type": "stream",
     "text": [
      "The dataset columns include the following attributes related to heart patients:\n",
      "\n",
      "- Age (numeric)\n",
      "- Sex (categorical: M or F)\n",
      "- Chest pain type (categorical: ASY, ATA, NAP, TA)\n",
      "- Resting blood pressure (numeric)\n",
      "- Serum cholesterol (numeric)\n",
      "- Fasting blood sugar > 120 mg/dl (binary: 0 or 1)\n",
      "- Resting electrocardiographic results (categorical: Normal, ST, LVH)\n",
      "- Maximum heart rate achieved (numeric)\n",
      "- Exercise induced angina (binary: Y or N)\n",
      "- ST depression induced by exercise relative to rest (numeric)\n",
      "- Slope of the peak exercise ST segment (categorical: Up, Flat, Down)\n",
      "- Heart disease (label: 0 or 1)\n",
      "\n",
      "These columns represent various clinical and demographic features used for heart disease classification or prediction. Let me know if you want additional details on each column or the dataset.\n"
     ]
    }
   ],
   "source": [
    "from agno.knowledge.csv import CSVKnowledgeBase\n",
    "\n",
    "knowledge_base = CSVKnowledgeBase(\n",
    "    path = \"heart.csv\",\n",
    "    vector_db=vector_db,\n",
    ")\n",
    "\n",
    "agent = Agent(\n",
    "    model=AzureOpenAI(id=model_name),\n",
    "    knowledge=knowledge_base,\n",
    "    search_knowledge=True,\n",
    ")\n",
    "agent.knowledge.load()\n",
    "res = agent.run(\"What are the dataset columns?\")\n",
    "print(res.content)"
   ]
  },
  {
   "cell_type": "markdown",
   "metadata": {},
   "source": [
    "## Tips and Suggestions"
   ]
  },
  {
   "cell_type": "markdown",
   "metadata": {},
   "source": [
    "* How does the chunking strategy affect the agent response?\n",
    "* Which chunking strategy takes the longest?\n",
    "* Try out other vector databases like Pgvector, MilvusDB, pinecone (may require Docker as setup)\n",
    "* Design other structured output models (e.g. Biomarkers)\n",
    "* Which other data sources can be used as Knowledge base?\n",
    "* What does hybrid search mean? What other search types are there?"
   ]
  }
 ],
 "metadata": {
  "kernelspec": {
   "display_name": "ccls_datathon",
   "language": "python",
   "name": "python3"
  },
  "language_info": {
   "codemirror_mode": {
    "name": "ipython",
    "version": 3
   },
   "file_extension": ".py",
   "mimetype": "text/x-python",
   "name": "python",
   "nbconvert_exporter": "python",
   "pygments_lexer": "ipython3",
   "version": "3.11.3"
  }
 },
 "nbformat": 4,
 "nbformat_minor": 2
}
