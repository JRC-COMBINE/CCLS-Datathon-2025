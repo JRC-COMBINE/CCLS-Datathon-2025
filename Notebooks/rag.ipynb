{
 "cells": [
  {
   "cell_type": "markdown",
   "metadata": {},
   "source": [
    "# 0. Setting up the Project"
   ]
  },
  {
   "cell_type": "code",
   "execution_count": 1,
   "metadata": {},
   "outputs": [],
   "source": [
    "from agno.models.azure import AzureOpenAI\n",
    "from agno.agent import Agent\n",
    "import os\n",
    "\n",
    "model_name = \"gpt-4.1-mini\"\n",
    "api_version=\"2025-04-01-preview\"\n",
    "endpoint = \"\"\n",
    "api_key = \"\"\n",
    "\n",
    "os.environ[\"AZURE_OPENAI_API_KEY\"] = api_key\n",
    "os.environ[\"AZURE_OPENAI_ENDPOINT\"] = endpoint\n",
    "os.environ[\"OPENAI_API_VERSION\"] = api_version"
   ]
  },
  {
   "cell_type": "code",
   "execution_count": 2,
   "metadata": {},
   "outputs": [
    {
     "name": "stdout",
     "output_type": "stream",
     "text": [
      "Breaking News from Aachen! \n",
      "\n",
      "This morning, Aachen witnessed an extraordinary event as a historic medieval festival kicked off in the city center, drawing crowds from across Europe. The festival, celebrating Aachen’s rich heritage, features traditional crafts, music, and reenactments of medieval life. Streets are alive with vibrant costumes, knights in armor, and artisans demonstrating age-old techniques. \n",
      "\n",
      "City officials expressed excitement about the boost to local tourism and the opportunity to showcase Aachen’s unique history. Visitors can enjoy everything from jousting tournaments to authentic medieval cuisine over the next week. Stay tuned for more updates as the festival unfolds!\n"
     ]
    }
   ],
   "source": [
    "agent = Agent(\n",
    "    model=AzureOpenAI(id=model_name, temperature=0),\n",
    "    description=\"You are an enthusiastic news reporter with a flair for storytelling!\",\n",
    ")\n",
    "res = agent.run(\"Tell me about a breaking news story from Aachen.\")\n",
    "print(res.content)"
   ]
  },
  {
   "cell_type": "markdown",
   "metadata": {},
   "source": [
    "## Resources"
   ]
  },
  {
   "cell_type": "markdown",
   "metadata": {},
   "source": [
    "* Agno: https://docs.agno.com/introduction\n",
    "* Heart Failure paper: https://link.springer.com/article/10.1007/s10741-021-10105-w"
   ]
  },
  {
   "cell_type": "markdown",
   "metadata": {},
   "source": [
    "# 1. Embeddings"
   ]
  },
  {
   "cell_type": "code",
   "execution_count": 3,
   "metadata": {},
   "outputs": [
    {
     "name": "stdout",
     "output_type": "stream",
     "text": [
      "Embeddings: [0.016539961, -0.025933826, 0.048515484, 0.03760145, -0.04732014, -0.002327353, -0.010972504, 0.029467896, -0.014123281, -0.006298308]\n",
      "Dimensions: 1536\n"
     ]
    }
   ],
   "source": [
    "from agno.embedder.azure_openai import AzureOpenAIEmbedder\n",
    "\n",
    "embeddings = AzureOpenAIEmbedder(id='text-embedding-3-small').get_embedding(\n",
    "    \"Center for Computational Life Sciences\"\n",
    ")\n",
    "\n",
    "print(f\"Embeddings: {embeddings[:10]}\")\n",
    "print(f\"Dimensions: {len(embeddings)}\")"
   ]
  },
  {
   "cell_type": "markdown",
   "metadata": {},
   "source": [
    "### Tasks\n",
    "* What is the word embedding of your name?\n",
    "* Look up how different word embeddings are combined together (token embedding + positional embedding)\n",
    "* What other embedding models are there? How do they differ?\n",
    "* Find out the general structure of embedding models\n"
   ]
  },
  {
   "cell_type": "markdown",
   "metadata": {},
   "source": [
    "# 2. Setting up the vector database and knowledge base"
   ]
  },
  {
   "cell_type": "code",
   "execution_count": 66,
   "metadata": {},
   "outputs": [
    {
     "name": "stdout",
     "output_type": "stream",
     "text": [
      "ccls\n"
     ]
    }
   ],
   "source": [
    "from agno.vectordb.chroma import ChromaDb\n",
    "\n",
    "vector_db = ChromaDb(\n",
    "    collection=\"ccls\",\n",
    "    embedder=AzureOpenAIEmbedder(id='text-embedding-3-small')\n",
    ")\n",
    "print(vector_db.collection_name)"
   ]
  },
  {
   "cell_type": "markdown",
   "metadata": {},
   "source": [
    "## Knowledge Base"
   ]
  },
  {
   "cell_type": "code",
   "execution_count": 67,
   "metadata": {},
   "outputs": [
    {
     "name": "stdout",
     "output_type": "stream",
     "text": [
      "<agno.vectordb.chroma.chromadb.ChromaDb object at 0x31e618750>\n"
     ]
    }
   ],
   "source": [
    "from agno.knowledge.pdf import PDFKnowledgeBase, PDFReader\n",
    "\n",
    "knowledge_base = PDFKnowledgeBase(\n",
    "    path=\"heart_failure_review.pdf\",\n",
    "    vector_db=vector_db,\n",
    "    reader=PDFReader(chunk=True),\n",
    ")\n",
    "print(knowledge_base.vector_db)"
   ]
  },
  {
   "cell_type": "markdown",
   "metadata": {},
   "source": [
    "### Tasks\n",
    "* How do vector databases retrieve relevant embeddings?\n",
    "* What are known vector databases? How do they differ?\n",
    "* What are advantages and disadvantages of setting up a vector databases in a Docker container?"
   ]
  },
  {
   "cell_type": "markdown",
   "metadata": {},
   "source": [
    "# 3. Chunking"
   ]
  },
  {
   "cell_type": "markdown",
   "metadata": {},
   "source": [
    "## Fixed Size chunking"
   ]
  },
  {
   "cell_type": "code",
   "execution_count": 49,
   "metadata": {},
   "outputs": [
    {
     "name": "stdout",
     "output_type": "stream",
     "text": [
      "<agno.document.chunking.fixed.FixedSizeChunking object at 0x31e6b31d0>\n"
     ]
    },
    {
     "data": {
      "text/html": [
       "<pre style=\"white-space:pre;overflow-x:auto;line-height:normal;font-family:Menlo,'DejaVu Sans Mono',consolas,'Courier New',monospace\"><span style=\"color: #000080; text-decoration-color: #000080\">INFO</span> Reading: heart_failure_review                                                                                 \n",
       "</pre>\n"
      ],
      "text/plain": [
       "\u001b[34mINFO\u001b[0m Reading: heart_failure_review                                                                                 \n"
      ]
     },
     "metadata": {},
     "output_type": "display_data"
    },
    {
     "name": "stdout",
     "output_type": "stream",
     "text": [
      "29\n",
      "Vol.:(0123456789)1 3 h ttps://doi.org/10.1007/s10741-021-10105-w Biomarkers for the diagnosis and ma\n",
      "Chunk metadata: {'page': 1, 'chunk': 1, 'chunk_size': 4137}\n",
      "1 3 help refine the management of patients with HF and further improve their prognosis. Characterist\n",
      "Chunk metadata: {'page': 2, 'chunk': 1, 'chunk_size': 4895}\n",
      "1 3 Diagnosis In the Breathing Not Properly study, which included 1586 patients admitted to the emer\n",
      "Chunk metadata: {'page': 3, 'chunk': 1, 'chunk_size': 2036}\n"
     ]
    }
   ],
   "source": [
    "print(knowledge_base.chunking_strategy)\n",
    "chunks = list(knowledge_base.document_lists)[0]\n",
    "print(len(chunks))\n",
    "for chunk in chunks[:3]:\n",
    "    print(f\"{chunk.content[:100]}\")\n",
    "    print(f\"Chunk metadata: {chunk.meta_data}\")"
   ]
  },
  {
   "cell_type": "code",
   "execution_count": 52,
   "metadata": {},
   "outputs": [
    {
     "name": "stdout",
     "output_type": "stream",
     "text": [
      "Vol.:(0123456789)1 3 h ttps://doi.org/10.1007/s10741-021-10105-w Biomarkers for the diagnosis and management of heart failure Vincenzo Castiglione1 · Alberto Aimo1,2 · Giuseppe Vergaro1,2 · Luigi Saccaro1 · Claudio Passino1,2 · Michele Emdin1,2 Accepted: 6 April 2021 © The Author(s) 2021 Abstract Heart failure (HF) is a significant cause of morbidity and mortality worldwide. Circulating biomarkers reflecting pathophysi- ological pathways involved in HF development and progression may assist clinicians in early diagnosis and management of HF patients. Natriuretic peptides (NPs) are cardioprotective hormones released by cardiomyocytes in response to pressure or volume overload. The roles of B-type NP (BNP) and N-terminal pro-B-type NP (NT-proBNP) for diagnosis and risk stratification in HF have been extensively demonstrated, and these biomarkers are emerging tools for population screening and as guides to the start of treatment in subclinical HF. On the contrary, conflicting evidence exists on the role of NPs as a guide to HF therapy. Among the other biomarkers, high-sensitivity troponins and soluble suppression of tumorigenesis-2 are the most promising biomarkers for risk stratification, with independent value to NPs. Other biomarkers evaluated as predictors of adverse outcome are galectin-3, growth differentiation factor 15, mid-regional pro-adrenomedullin, and makers of renal dysfunction. Multi-marker scores and genomic, transcriptomic, proteomic, and metabolomic analyses could further refine HF management. Keywords Biomark ers · Heart failure · Natriuretic peptides · Troponin · SST2 · Inflammation Heart failure (HF) is a syndrome characterized by the inabil- ity of the heart to pump enough blood and oxygen to sup- port the metabolic demands of other organs [1 ]. HF affects around 64 million of patients worldwide, and its prevalence is increasing due to population ageing, the growing burden of comorbidities and risk factors for HF, and the longer sur- vival after myocardial infarction [2]. HF is commonly classified based on left ventricular ejection fraction (LVEF) into the categories of HF with preserved (HFpEF; LVEF ≥ 50%), mid-rang e (HFmrEF; LVEF 40–49%), and reduced ejection fraction (HFrEF; LVEF < 40%) [2]. HFpEF is predominantly characterized by diastolic dysfunction and often results from heart dam- age due to comorbidities (e.g., obesity, chronic kidney dis- ease (CKD), chronic obstructive pulmonary disease) or accumulation disorders (e.g., cardiac amyloidosis). HFrEF, on the other hand, is characterized prevalently by systolic dysfunction, secondary to a direct heart damage (such as an acute coronary syndrome), a cardiomyopathy or a valve disease [2]. While the pathophysiology of HFpEF is likely multifactorial, an imbalance in the neuroendocrine systems regulating cardiovascular homeostasis plays a central role in HFrEF. The sympathetic nervous system (SNS) and the renin–angiotensin–aldosterone system (RAAS) are over - activated and are not adequately counterbalanced by the increased release of natriuretic peptides (NPs). This imbal- ance promotes structural alterations leading to progressive hypertrophy and dilation of cardiac chambers. These altera- tions have detrimental effects on cardiac pump function, and ultimately lead to symptom development, as well as an increased susceptibility to arrhythmias and cardiac conduc- tion disorders [1]. Thanks to the introduction of pharmacological thera- pies (beta-blockers, angiotensin-converting enzyme (ACE) inhibitors or angiotensin receptor blockers, mineralocor - ticoid receptor antagonists, neprilysin inhibitors, and, recently, sodium-glucose 2 co-transport inhibitors) and devices (implantable cardioverter defibrillator and cardiac resynchronisation therapy), the survival of HF patients has progressively improved. A careful use of biomarkers might * Alberto Aimo albert oaimo@libero.it; a.aimo@santannapisa.it 1 Institute of Life Sciences, Scuola Superiore Sant’ Anna, Pisa, It aly 2 Fondazione Toscana Gabriele Monasterio, Pisa, Italy / Published online: 14 April 2021 Heart Failure Reviews (2022) 27:625–643\n",
      "4137\n"
     ]
    }
   ],
   "source": [
    "# Lets check out the first chunk\n",
    "print(chunks[0].content)\n",
    "print(len(chunks[0].content))"
   ]
  },
  {
   "cell_type": "markdown",
   "metadata": {},
   "source": [
    "## Document chunking"
   ]
  },
  {
   "cell_type": "code",
   "execution_count": 53,
   "metadata": {},
   "outputs": [
    {
     "name": "stdout",
     "output_type": "stream",
     "text": [
      "<agno.document.chunking.document.DocumentChunking object at 0x31e4a2110>\n"
     ]
    },
    {
     "data": {
      "text/html": [
       "<pre style=\"white-space:pre;overflow-x:auto;line-height:normal;font-family:Menlo,'DejaVu Sans Mono',consolas,'Courier New',monospace\"><span style=\"color: #000080; text-decoration-color: #000080\">INFO</span> Reading: heart_failure_review                                                                                 \n",
       "</pre>\n"
      ],
      "text/plain": [
       "\u001b[34mINFO\u001b[0m Reading: heart_failure_review                                                                                 \n"
      ]
     },
     "metadata": {},
     "output_type": "display_data"
    },
    {
     "name": "stdout",
     "output_type": "stream",
     "text": [
      "19\n",
      "Vol.:(0123456789)1 3\n",
      "h\n",
      "ttps://doi.org/10.1007/s10741-021-10105-w\n",
      "Biomarkers for the diagnosis and ma\n",
      "Chunk metadata: {'page': 1}\n",
      "1 3\n",
      "help refine the management of patients with HF and further \n",
      "improve their prognosis.\n",
      "Characteris\n",
      "Chunk metadata: {'page': 2}\n",
      "1 3\n",
      "Diagnosis\n",
      "In the Breathing Not Properly study, which included 1586 \n",
      "patients admitted to the eme\n",
      "Chunk metadata: {'page': 3}\n"
     ]
    }
   ],
   "source": [
    "from agno.document.chunking.document import DocumentChunking\n",
    "\n",
    "pdf_knowledge_base = PDFKnowledgeBase(\n",
    "    path=\"heart_failure_review.pdf\",\n",
    "    vector_db=vector_db,\n",
    "    reader=PDFReader(chunk=True),\n",
    "    chunking_strategy=DocumentChunking()\n",
    ")\n",
    "\n",
    "print(pdf_knowledge_base.chunking_strategy)\n",
    "chunks = list(pdf_knowledge_base.document_lists)[0]\n",
    "print(len(chunks))\n",
    "for chunk in chunks[:3]:\n",
    "    print(f\"{chunk.content[:100]}\")\n",
    "    print(f\"Chunk metadata: {chunk.meta_data}\")"
   ]
  },
  {
   "cell_type": "markdown",
   "metadata": {},
   "source": [
    "## Agentic chunking"
   ]
  },
  {
   "cell_type": "code",
   "execution_count": null,
   "metadata": {},
   "outputs": [],
   "source": [
    "from agno.document.chunking.agentic import AgenticChunking\n",
    "\n",
    "pdf_knowledge_base = PDFKnowledgeBase(\n",
    "    path=\"heart_failure_review.pdf\",\n",
    "    vector_db=vector_db,\n",
    "    reader=PDFReader(chunk=True),\n",
    "    chunking_strategy=AgenticChunking()\n",
    ")\n",
    "\n",
    "print(pdf_knowledge_base.chunking_strategy)\n",
    "chunks = list(pdf_knowledge_base.document_lists)[0]\n",
    "print(len(chunks))\n",
    "for chunk in chunks[:3]:\n",
    "    print(f\"{chunk.content[:100]}\")\n",
    "    print(f\"Chunk metadata: {chunk.meta_data}\")"
   ]
  },
  {
   "cell_type": "markdown",
   "metadata": {},
   "source": [
    "### Tasks\n",
    "* What is the default chunk size for FixedSizeChunking (look up Agno docs)?\n",
    "* Why does FixedSizeChunking have the Overlap parameter? Why would you need chunk overlap?\n",
    "* Which chunking strategy takes the longest?\n",
    "* Think of use cases for the different chunking techniques\n",
    "* (Difficult) As you can see every chunk starts with the characters \"1 3\". Why?"
   ]
  },
  {
   "cell_type": "markdown",
   "metadata": {},
   "source": [
    "# 4. Retrieval"
   ]
  },
  {
   "cell_type": "markdown",
   "metadata": {},
   "source": [
    "## Simple retrieval"
   ]
  },
  {
   "cell_type": "code",
   "execution_count": 80,
   "metadata": {},
   "outputs": [
    {
     "data": {
      "text/html": [
       "<pre style=\"white-space:pre;overflow-x:auto;line-height:normal;font-family:Menlo,'DejaVu Sans Mono',consolas,'Courier New',monospace\"><span style=\"color: #000080; text-decoration-color: #000080\">INFO</span> Loading knowledge base                                                                                        \n",
       "</pre>\n"
      ],
      "text/plain": [
       "\u001b[34mINFO\u001b[0m Loading knowledge base                                                                                        \n"
      ]
     },
     "metadata": {},
     "output_type": "display_data"
    },
    {
     "data": {
      "text/html": [
       "<pre style=\"white-space:pre;overflow-x:auto;line-height:normal;font-family:Menlo,'DejaVu Sans Mono',consolas,'Courier New',monospace\"><span style=\"color: #000080; text-decoration-color: #000080\">INFO</span> Reading: heart_failure_review                                                                                 \n",
       "</pre>\n"
      ],
      "text/plain": [
       "\u001b[34mINFO\u001b[0m Reading: heart_failure_review                                                                                 \n"
      ]
     },
     "metadata": {},
     "output_type": "display_data"
    },
    {
     "data": {
      "text/html": [
       "<pre style=\"white-space:pre;overflow-x:auto;line-height:normal;font-family:Menlo,'DejaVu Sans Mono',consolas,'Courier New',monospace\"><span style=\"color: #000080; text-decoration-color: #000080\">INFO</span> Skipped <span style=\"color: #008080; text-decoration-color: #008080; font-weight: bold\">29</span> existing/duplicate documents.                                                                      \n",
       "</pre>\n"
      ],
      "text/plain": [
       "\u001b[34mINFO\u001b[0m Skipped \u001b[1;36m29\u001b[0m existing/duplicate documents.                                                                      \n"
      ]
     },
     "metadata": {},
     "output_type": "display_data"
    },
    {
     "data": {
      "text/html": [
       "<pre style=\"white-space:pre;overflow-x:auto;line-height:normal;font-family:Menlo,'DejaVu Sans Mono',consolas,'Courier New',monospace\"><span style=\"color: #000080; text-decoration-color: #000080\">INFO</span> Added <span style=\"color: #008080; text-decoration-color: #008080; font-weight: bold\">0</span> documents to knowledge base                                                                           \n",
       "</pre>\n"
      ],
      "text/plain": [
       "\u001b[34mINFO\u001b[0m Added \u001b[1;36m0\u001b[0m documents to knowledge base                                                                           \n"
      ]
     },
     "metadata": {},
     "output_type": "display_data"
    }
   ],
   "source": [
    "knowledge_base = PDFKnowledgeBase(\n",
    "    path=\"heart_failure_review.pdf\",\n",
    "    vector_db=vector_db,\n",
    "    num_documents=5,\n",
    "    reader=PDFReader(chunk=True),\n",
    ")\n",
    "knowledge_base.load()"
   ]
  },
  {
   "cell_type": "code",
   "execution_count": 81,
   "metadata": {},
   "outputs": [
    {
     "data": {
      "text/html": [
       "<pre style=\"white-space:pre;overflow-x:auto;line-height:normal;font-family:Menlo,'DejaVu Sans Mono',consolas,'Courier New',monospace\"><span style=\"color: #000080; text-decoration-color: #000080\">INFO</span> Found <span style=\"color: #008080; text-decoration-color: #008080; font-weight: bold\">5</span> documents                                                                                             \n",
       "</pre>\n"
      ],
      "text/plain": [
       "\u001b[34mINFO\u001b[0m Found \u001b[1;36m5\u001b[0m documents                                                                                             \n"
      ]
     },
     "metadata": {},
     "output_type": "display_data"
    },
    {
     "name": "stdout",
     "output_type": "stream",
     "text": [
      "The main topic of the paper is about heart failure, specifically focusing on the pathophysiological pathways involved in heart failure, and the various biomarkers associated with different aspects such as neurohormonal activation, myocardial injury, cardiac remodeling, inflammation, oxidative stress, and comorbidities. The paper discusses the predictive and prognostic roles of these biomarkers in heart failure outcomes.\n"
     ]
    }
   ],
   "source": [
    "agent = Agent(\n",
    "    model=AzureOpenAI(id=model_name),\n",
    "    knowledge=knowledge_base,\n",
    "    search_knowledge=True,\n",
    ")\n",
    "res = agent.run(\"What is the main topic of the paper?\")\n",
    "print(res.content)"
   ]
  },
  {
   "cell_type": "markdown",
   "metadata": {},
   "source": [
    "## Using instructions"
   ]
  },
  {
   "cell_type": "code",
   "execution_count": 73,
   "metadata": {},
   "outputs": [
    {
     "data": {
      "text/html": [
       "<pre style=\"white-space:pre;overflow-x:auto;line-height:normal;font-family:Menlo,'DejaVu Sans Mono',consolas,'Courier New',monospace\"><span style=\"color: #000080; text-decoration-color: #000080\">INFO</span> Loading knowledge base                                                                                        \n",
       "</pre>\n"
      ],
      "text/plain": [
       "\u001b[34mINFO\u001b[0m Loading knowledge base                                                                                        \n"
      ]
     },
     "metadata": {},
     "output_type": "display_data"
    },
    {
     "data": {
      "text/html": [
       "<pre style=\"white-space:pre;overflow-x:auto;line-height:normal;font-family:Menlo,'DejaVu Sans Mono',consolas,'Courier New',monospace\"><span style=\"color: #000080; text-decoration-color: #000080\">INFO</span> Reading: heart_failure_review                                                                                 \n",
       "</pre>\n"
      ],
      "text/plain": [
       "\u001b[34mINFO\u001b[0m Reading: heart_failure_review                                                                                 \n"
      ]
     },
     "metadata": {},
     "output_type": "display_data"
    },
    {
     "data": {
      "text/html": [
       "<pre style=\"white-space:pre;overflow-x:auto;line-height:normal;font-family:Menlo,'DejaVu Sans Mono',consolas,'Courier New',monospace\"><span style=\"color: #000080; text-decoration-color: #000080\">INFO</span> Skipped <span style=\"color: #008080; text-decoration-color: #008080; font-weight: bold\">29</span> existing/duplicate documents.                                                                      \n",
       "</pre>\n"
      ],
      "text/plain": [
       "\u001b[34mINFO\u001b[0m Skipped \u001b[1;36m29\u001b[0m existing/duplicate documents.                                                                      \n"
      ]
     },
     "metadata": {},
     "output_type": "display_data"
    },
    {
     "data": {
      "text/html": [
       "<pre style=\"white-space:pre;overflow-x:auto;line-height:normal;font-family:Menlo,'DejaVu Sans Mono',consolas,'Courier New',monospace\"><span style=\"color: #000080; text-decoration-color: #000080\">INFO</span> Added <span style=\"color: #008080; text-decoration-color: #008080; font-weight: bold\">0</span> documents to knowledge base                                                                           \n",
       "</pre>\n"
      ],
      "text/plain": [
       "\u001b[34mINFO\u001b[0m Added \u001b[1;36m0\u001b[0m documents to knowledge base                                                                           \n"
      ]
     },
     "metadata": {},
     "output_type": "display_data"
    },
    {
     "data": {
      "text/html": [
       "<pre style=\"white-space:pre;overflow-x:auto;line-height:normal;font-family:Menlo,'DejaVu Sans Mono',consolas,'Courier New',monospace\"><span style=\"color: #000080; text-decoration-color: #000080\">INFO</span> Found <span style=\"color: #008080; text-decoration-color: #008080; font-weight: bold\">5</span> documents                                                                                             \n",
       "</pre>\n"
      ],
      "text/plain": [
       "\u001b[34mINFO\u001b[0m Found \u001b[1;36m5\u001b[0m documents                                                                                             \n"
      ]
     },
     "metadata": {},
     "output_type": "display_data"
    },
    {
     "name": "stdout",
     "output_type": "stream",
     "text": [
      "The comorbidities of heart failure include:\n",
      "\n",
      "1. Kidney dysfunction:\n",
      "   - Creatinine, azotaemia, and GFR are used to monitor effects of HF therapies and are prognostic markers.\n",
      "   - Cystatin C may be an outcome predictor in acute and chronic HF.\n",
      "   - Biomarkers of renal damage such as neutrophil gelatinase-associated lipocalin (NGAL), kidney injury molecule-1 (KIM-1), and N-acetyl-β-(D)-glucosaminidase (NAG) are associated with HF outcomes.\n",
      "   - Fibroblast growth factor 23 (FGF-23) is linked to cardiac hypertrophy and HF and may have prognostic significance in HFrEF or HFpEF.\n",
      "   (Source: Section titled \"Comorbidities\")\n",
      "\n",
      "2. Liver dysfunction:\n",
      "   - Common in advanced HF due to venous congestion from right ventricular dysfunction.\n",
      "   - Elevation of transaminases, bilirubin, and hypoalbuminemia stratify risk in acute or chronic HF.\n",
      "   (Source: Section titled \"Comorbidities\")\n",
      "\n",
      "3. Iron deficiency and anemia:\n",
      "   - Anemia is a predictor of adverse outcomes in acute and chronic HF.\n",
      "   - Iron deficiency is common in chronic HF and predicts worse prognosis independent of other factors.\n",
      "   - Correction of iron deficiency improves exercise ability, symptoms, and quality of life in HFrEF.\n",
      "   (Source: Section titled \"Comorbidities\")\n",
      "\n",
      "4. Endocrine and metabolic alterations:\n",
      "   - Thyroid dysfunction (subclinical hypothyroidism or low T3 syndrome) is common and associated with worse prognosis.\n",
      "   - Elevated serum and salivary cortisol levels are linked to increased mortality.\n",
      "   - Adiponectin levels increase in chronic HF and predict worse outcomes.\n",
      "   (Source: Section titled \"Comorbidities\")\n",
      "\n",
      "5. Other comorbidities mentioned in the context of HFpEF include obesity, chronic kidney disease (CKD), chronic obstructive pulmonary disease (COPD), and accumulation disorders such as cardiac amyloidosis.\n",
      "   (Source: Section titled \"Heart failure (HF) is a syndrome characterized...\")\n",
      "\n",
      "These comorbidities contribute to the complexity and prognosis of heart failure.\n"
     ]
    }
   ],
   "source": [
    "agent = Agent(\n",
    "    model=AzureOpenAI(id=model_name, temperature=0),\n",
    "    knowledge=knowledge_base,\n",
    "    instructions=[\n",
    "        \"Cite the exact phrases and section titles from the sources in your response.\",\n",
    "        \"Use enumerations to organize your response.\",\n",
    "        \"Do not write any other text than the response.\",\n",
    "    ],\n",
    "    search_knowledge=True,\n",
    ")\n",
    "agent.knowledge.load()\n",
    "\n",
    "res = agent.run(\"List the comorbidities of heart failure.\")\n",
    "print(res.content)  \n"
   ]
  },
  {
   "cell_type": "markdown",
   "metadata": {},
   "source": [
    "## Using structured outputs"
   ]
  },
  {
   "cell_type": "code",
   "execution_count": 75,
   "metadata": {},
   "outputs": [
    {
     "data": {
      "text/html": [
       "<pre style=\"white-space:pre;overflow-x:auto;line-height:normal;font-family:Menlo,'DejaVu Sans Mono',consolas,'Courier New',monospace\"><span style=\"color: #000080; text-decoration-color: #000080\">INFO</span> Loading knowledge base                                                                                        \n",
       "</pre>\n"
      ],
      "text/plain": [
       "\u001b[34mINFO\u001b[0m Loading knowledge base                                                                                        \n"
      ]
     },
     "metadata": {},
     "output_type": "display_data"
    },
    {
     "data": {
      "text/html": [
       "<pre style=\"white-space:pre;overflow-x:auto;line-height:normal;font-family:Menlo,'DejaVu Sans Mono',consolas,'Courier New',monospace\"><span style=\"color: #000080; text-decoration-color: #000080\">INFO</span> Reading: heart_failure_review                                                                                 \n",
       "</pre>\n"
      ],
      "text/plain": [
       "\u001b[34mINFO\u001b[0m Reading: heart_failure_review                                                                                 \n"
      ]
     },
     "metadata": {},
     "output_type": "display_data"
    },
    {
     "data": {
      "text/html": [
       "<pre style=\"white-space:pre;overflow-x:auto;line-height:normal;font-family:Menlo,'DejaVu Sans Mono',consolas,'Courier New',monospace\"><span style=\"color: #000080; text-decoration-color: #000080\">INFO</span> Skipped <span style=\"color: #008080; text-decoration-color: #008080; font-weight: bold\">29</span> existing/duplicate documents.                                                                      \n",
       "</pre>\n"
      ],
      "text/plain": [
       "\u001b[34mINFO\u001b[0m Skipped \u001b[1;36m29\u001b[0m existing/duplicate documents.                                                                      \n"
      ]
     },
     "metadata": {},
     "output_type": "display_data"
    },
    {
     "data": {
      "text/html": [
       "<pre style=\"white-space:pre;overflow-x:auto;line-height:normal;font-family:Menlo,'DejaVu Sans Mono',consolas,'Courier New',monospace\"><span style=\"color: #000080; text-decoration-color: #000080\">INFO</span> Added <span style=\"color: #008080; text-decoration-color: #008080; font-weight: bold\">0</span> documents to knowledge base                                                                           \n",
       "</pre>\n"
      ],
      "text/plain": [
       "\u001b[34mINFO\u001b[0m Added \u001b[1;36m0\u001b[0m documents to knowledge base                                                                           \n"
      ]
     },
     "metadata": {},
     "output_type": "display_data"
    },
    {
     "data": {
      "text/html": [
       "<pre style=\"white-space:pre;overflow-x:auto;line-height:normal;font-family:Menlo,'DejaVu Sans Mono',consolas,'Courier New',monospace\"><span style=\"color: #808000; text-decoration-color: #808000\">WARNING </span> Error retrieving structured outputs: <span style=\"color: #008000; text-decoration-color: #008000\">'ChatCompletionMessage'</span> object has no attribute <span style=\"color: #008000; text-decoration-color: #008000\">'parsed'</span>             \n",
       "</pre>\n"
      ],
      "text/plain": [
       "\u001b[33mWARNING \u001b[0m Error retrieving structured outputs: \u001b[32m'ChatCompletionMessage'\u001b[0m object has no attribute \u001b[32m'parsed'\u001b[0m             \n"
      ]
     },
     "metadata": {},
     "output_type": "display_data"
    },
    {
     "data": {
      "text/html": [
       "<pre style=\"white-space:pre;overflow-x:auto;line-height:normal;font-family:Menlo,'DejaVu Sans Mono',consolas,'Courier New',monospace\"><span style=\"color: #000080; text-decoration-color: #000080\">INFO</span> Found <span style=\"color: #008080; text-decoration-color: #008080; font-weight: bold\">5</span> documents                                                                                             \n",
       "</pre>\n"
      ],
      "text/plain": [
       "\u001b[34mINFO\u001b[0m Found \u001b[1;36m5\u001b[0m documents                                                                                             \n"
      ]
     },
     "metadata": {},
     "output_type": "display_data"
    },
    {
     "data": {
      "text/html": [
       "<pre style=\"white-space:pre;overflow-x:auto;line-height:normal;font-family:Menlo,'DejaVu Sans Mono',consolas,'Courier New',monospace\"><span style=\"color: #808000; text-decoration-color: #808000\">WARNING </span> Error retrieving structured outputs: <span style=\"color: #008000; text-decoration-color: #008000\">'ChatCompletionMessage'</span> object has no attribute <span style=\"color: #008000; text-decoration-color: #008000\">'parsed'</span>             \n",
       "</pre>\n"
      ],
      "text/plain": [
       "\u001b[33mWARNING \u001b[0m Error retrieving structured outputs: \u001b[32m'ChatCompletionMessage'\u001b[0m object has no attribute \u001b[32m'parsed'\u001b[0m             \n"
      ]
     },
     "metadata": {},
     "output_type": "display_data"
    },
    {
     "data": {
      "text/plain": [
       "[Comorbidity(comorbidity='Kidney dysfunction', symptoms=['Elevated creatinine', 'Azotemia', 'Reduced glomerular filtration rate (GFR)'], treatment=['Monitoring with creatinine, azotemia, and GFR', 'Managing renal function in HF therapy especially diuretics'], prevalence=0.0),\n",
       " Comorbidity(comorbidity='Liver dysfunction', symptoms=['Elevated transaminases', 'Elevated bilirubin', 'Hypoalbuminemia'], treatment=['Risk stratification based on liver function tests', 'Treat underlying HF to relieve venous congestion'], prevalence=0.0),\n",
       " Comorbidity(comorbidity='Iron deficiency and anemia', symptoms=['Worsening HF symptoms', 'Fatigue', 'Poor exercise capacity'], treatment=['Correction of iron deficiency with iron supplementation', 'Management of anemia'], prevalence=40.0),\n",
       " Comorbidity(comorbidity='Thyroid dysfunction', symptoms=['Subclinical hypothyroidism', 'Low T3 syndrome', 'Worsened HF symptoms'], treatment=['Assessment and management of thyroid function abnormalities'], prevalence=0.0),\n",
       " Comorbidity(comorbidity='Endocrine and metabolic alterations', symptoms=['Elevated serum and salivary cortisol levels', 'Changes in adipokines such as adiponectin'], treatment=['Monitoring and potentially managing endocrine abnormalities'], prevalence=0.0)]"
      ]
     },
     "execution_count": 75,
     "metadata": {},
     "output_type": "execute_result"
    }
   ],
   "source": [
    "from pydantic import BaseModel, Field\n",
    "\n",
    "class Comorbidity(BaseModel):\n",
    "    comorbidity: str = Field(description=\"Comorbidity\")\n",
    "    symptoms: list[str] = Field(description=\"Symptoms of the comorbidity\")\n",
    "    treatment: list[str] = Field(description=\"Treatment for the comorbidity\")\n",
    "    prevalence: float = Field(description=\"Prevalence of the comorbidity\")\n",
    "\n",
    "class ComorbiditiesList(BaseModel):\n",
    "    comorbidities: list[Comorbidity] = Field(description=\"List of comorbidities\")\n",
    "    \n",
    "agent = Agent(\n",
    "    model=AzureOpenAI(id=model_name),\n",
    "    knowledge=knowledge_base,\n",
    "    instructions=[\n",
    "        \"Cite the exact phrases and section titles from the sources in your response.\",\n",
    "        \"Use enumerations to organize your response.\",\n",
    "        \"Do not write any other text than the response.\",\n",
    "    ],\n",
    "    response_model=ComorbiditiesList,\n",
    "    search_knowledge=True,\n",
    ")\n",
    "agent.knowledge.load()\n",
    "\n",
    "res = agent.run(\"List the comorbidities of heart failure.\")\n",
    "res.content.comorbidities"
   ]
  },
  {
   "cell_type": "markdown",
   "metadata": {},
   "source": [
    "### Tasks\n",
    "* Try out more advanced detailled questions. Where does the LLM struggle?\n",
    "* How can you change how many chunks are retrieved? What are advantages and disadvantages of retrieving more chunks?\n",
    "* Design other structured output models (e.g. Biomarkers) and let the agent output your own structured output model\n",
    "* Structured outputs are great if you have a pipeline and you want to reliably feed the LLM output to the next step. Can you think of ways where we can use LLM outputs in data analysis / ML pipelines?"
   ]
  },
  {
   "cell_type": "markdown",
   "metadata": {},
   "source": [
    "## Using other Knowledge Sources"
   ]
  },
  {
   "cell_type": "markdown",
   "metadata": {},
   "source": [
    "### ArXiv"
   ]
  },
  {
   "cell_type": "code",
   "execution_count": 82,
   "metadata": {},
   "outputs": [
    {
     "data": {
      "text/html": [
       "<pre style=\"white-space:pre;overflow-x:auto;line-height:normal;font-family:Menlo,'DejaVu Sans Mono',consolas,'Courier New',monospace\"><span style=\"color: #000080; text-decoration-color: #000080\">INFO</span> Loading knowledge base                                                                                        \n",
       "</pre>\n"
      ],
      "text/plain": [
       "\u001b[34mINFO\u001b[0m Loading knowledge base                                                                                        \n"
      ]
     },
     "metadata": {},
     "output_type": "display_data"
    },
    {
     "data": {
      "text/html": [
       "<pre style=\"white-space:pre;overflow-x:auto;line-height:normal;font-family:Menlo,'DejaVu Sans Mono',consolas,'Courier New',monospace\"><span style=\"color: #000080; text-decoration-color: #000080\">INFO</span> Added <span style=\"color: #008080; text-decoration-color: #008080; font-weight: bold\">5</span> documents to knowledge base                                                                           \n",
       "</pre>\n"
      ],
      "text/plain": [
       "\u001b[34mINFO\u001b[0m Added \u001b[1;36m5\u001b[0m documents to knowledge base                                                                           \n"
      ]
     },
     "metadata": {},
     "output_type": "display_data"
    },
    {
     "data": {
      "text/html": [
       "<pre style=\"white-space:pre;overflow-x:auto;line-height:normal;font-family:Menlo,'DejaVu Sans Mono',consolas,'Courier New',monospace\"><span style=\"color: #000080; text-decoration-color: #000080\">INFO</span> Loading knowledge base                                                                                        \n",
       "</pre>\n"
      ],
      "text/plain": [
       "\u001b[34mINFO\u001b[0m Loading knowledge base                                                                                        \n"
      ]
     },
     "metadata": {},
     "output_type": "display_data"
    },
    {
     "data": {
      "text/html": [
       "<pre style=\"white-space:pre;overflow-x:auto;line-height:normal;font-family:Menlo,'DejaVu Sans Mono',consolas,'Courier New',monospace\"><span style=\"color: #000080; text-decoration-color: #000080\">INFO</span> Skipped <span style=\"color: #008080; text-decoration-color: #008080; font-weight: bold\">5</span> existing/duplicate documents.                                                                       \n",
       "</pre>\n"
      ],
      "text/plain": [
       "\u001b[34mINFO\u001b[0m Skipped \u001b[1;36m5\u001b[0m existing/duplicate documents.                                                                       \n"
      ]
     },
     "metadata": {},
     "output_type": "display_data"
    },
    {
     "data": {
      "text/html": [
       "<pre style=\"white-space:pre;overflow-x:auto;line-height:normal;font-family:Menlo,'DejaVu Sans Mono',consolas,'Courier New',monospace\"><span style=\"color: #000080; text-decoration-color: #000080\">INFO</span> Added <span style=\"color: #008080; text-decoration-color: #008080; font-weight: bold\">0</span> documents to knowledge base                                                                           \n",
       "</pre>\n"
      ],
      "text/plain": [
       "\u001b[34mINFO\u001b[0m Added \u001b[1;36m0\u001b[0m documents to knowledge base                                                                           \n"
      ]
     },
     "metadata": {},
     "output_type": "display_data"
    },
    {
     "data": {
      "text/html": [
       "<pre style=\"white-space:pre;overflow-x:auto;line-height:normal;font-family:Menlo,'DejaVu Sans Mono',consolas,'Courier New',monospace\"><span style=\"color: #000080; text-decoration-color: #000080\">INFO</span> Found <span style=\"color: #008080; text-decoration-color: #008080; font-weight: bold\">5</span> documents                                                                                             \n",
       "</pre>\n"
      ],
      "text/plain": [
       "\u001b[34mINFO\u001b[0m Found \u001b[1;36m5\u001b[0m documents                                                                                             \n"
      ]
     },
     "metadata": {},
     "output_type": "display_data"
    },
    {
     "name": "stdout",
     "output_type": "stream",
     "text": [
      "The latest research on heart failure highlights several important areas:\n",
      "\n",
      "1. Heart failure (HF) remains a major cause of morbidity and mortality globally, affecting around 64 million people worldwide, with increasing prevalence due to aging populations and comorbidities.\n",
      "\n",
      "2. HF is classified based on left ventricular ejection fraction (LVEF) into:\n",
      "   - HF with preserved ejection fraction (HFpEF, LVEF ≥ 50%)\n",
      "   - HF with mid-range ejection fraction (HFmrEF, LVEF 40–49%)\n",
      "   - HF with reduced ejection fraction (HFrEF, LVEF < 40%)\n",
      "\n",
      "3. HFpEF is often related to diastolic dysfunction and comorbidities such as obesity and chronic kidney disease, while HFrEF typically results from systolic dysfunction due to direct heart damage.\n",
      "\n",
      "4. Neuroendocrine imbalances involving the sympathetic nervous system and the renin-angiotensin-aldosterone system play a central role in HFrEF pathophysiology.\n",
      "\n",
      "5. Pharmacological treatments that have improved HF survival include beta-blockers, ACE inhibitors, mineralocorticoid receptor antagonists, neprilysin inhibitors, and sodium-glucose cotransporter 2 (SGLT2) inhibitors, along with devices like implantable defibrillators and cardiac resynchronization therapy.\n",
      "\n",
      "6. Biomarkers are increasingly used to aid in diagnosis, risk stratification, and management of HF. Natriuretic peptides (BNP and NT-proBNP) are well-established diagnostic and prognostic tools.\n",
      "\n",
      "7. Other promising biomarkers include high-sensitivity troponins, soluble suppression of tumorigenesis-2 (sST2), galectin-3, growth differentiation factor 15 (GDF15), mid-regional pro-adrenomedullin (MR-proADM), and markers of renal dysfunction. These can offer additional insights into prognosis and management.\n",
      "\n",
      "8. Multi-marker strategies and omics approaches (genomic, transcriptomic, proteomic, and metabolomic analyses) show promise for refining HF management and personalized therapy.\n",
      "\n",
      "9. Research also points to the role of metabolomics in identifying novel metabolic impairments and circulating biomarkers related to mitochondrial dysfunction in different HF phenotypes.\n",
      "\n",
      "Overall, the latest research emphasizes a comprehensive approach combining clinical evaluation, biomarker assessment, and advanced molecular profiling to improve the diagnosis, risk stratification, and treatment of heart failure. If you want more detailed or specific information on any of these aspects, let me know!\n"
     ]
    }
   ],
   "source": [
    "from agno.knowledge.arxiv import ArxivKnowledgeBase\n",
    "\n",
    "knowledge_base = ArxivKnowledgeBase(\n",
    "    queries=[\"heart failure\"],\n",
    "    vector_db=vector_db,\n",
    ")\n",
    "knowledge_base.load()\n",
    "\n",
    "agent = Agent(\n",
    "    model=AzureOpenAI(id=model_name),\n",
    "    knowledge=knowledge_base,\n",
    "    search_knowledge=True,\n",
    ")\n",
    "agent.knowledge.load()\n",
    "\n",
    "res = agent.run(\"What is the latest research on heart failure?\")\n",
    "print(res.content)"
   ]
  },
  {
   "cell_type": "code",
   "execution_count": 83,
   "metadata": {},
   "outputs": [
    {
     "name": "stdout",
     "output_type": "stream",
     "text": [
      "Predicting Heart Failure with Attention Learning Techniques Utilizing Cardiovascular Data\n",
      "{'pdf_url': 'http://arxiv.org/pdf/2407.08289v1', 'article_links': 'http://arxiv.org/abs/2407.08289v1, http://arxiv.org/pdf/2407.08289v1'}\n",
      "Cardiovascular diseases (CVDs) encompass a group of disorders affecting the\n",
      "heart and blood vessels,\n",
      "----------------------------------------------------------------------------------------------------\n",
      "Leveraging Natural Learning Processing to Uncover Themes in Clinical Notes of Patients Admitted for Heart Failure\n",
      "{'pdf_url': 'http://arxiv.org/pdf/2204.07074v1', 'article_links': 'http://arxiv.org/abs/2204.07074v1, http://arxiv.org/pdf/2204.07074v1'}\n",
      "Heart failure occurs when the heart is not able to pump blood and oxygen to\n",
      "support other organs in \n",
      "----------------------------------------------------------------------------------------------------\n",
      "Automated Identification of Drug-Drug Interactions in Pediatric Congestive Heart Failure Patients\n",
      "{'pdf_url': 'http://arxiv.org/pdf/1702.04615v1', 'article_links': 'http://arxiv.org/abs/1702.04615v1, http://arxiv.org/pdf/1702.04615v1'}\n",
      "Congestive Heart Failure, or CHF, is a serious medical condition that can\n",
      "result in fluid buildup in\n",
      "----------------------------------------------------------------------------------------------------\n",
      "Quantification of Trabeculae Inside the Heart from MRI Using Fractal Analysis\n",
      "{'pdf_url': 'http://arxiv.org/pdf/1810.04637v2', 'article_links': 'http://arxiv.org/abs/1810.04637v2, http://arxiv.org/pdf/1810.04637v2'}\n",
      "Left ventricular non-compaction (LVNC) is a rare cardiomyopathy (CMP) that\n",
      "should be considered as a\n",
      "----------------------------------------------------------------------------------------------------\n",
      "Using Natural Language Processing to Screen Patients with Active Heart Failure: An Exploration for Hospital-wide Surveillance\n",
      "{'pdf_url': 'http://arxiv.org/pdf/1609.01580v1', 'article_links': 'http://arxiv.org/abs/1609.01580v1, http://arxiv.org/pdf/1609.01580v1'}\n",
      "In this paper, we proposed two different approaches, a rule-based approach\n",
      "and a machine-learning ba\n",
      "----------------------------------------------------------------------------------------------------\n"
     ]
    }
   ],
   "source": [
    "for doc in list(knowledge_base.document_lists)[0]:\n",
    "    print(doc.name)\n",
    "    print(doc.meta_data)\n",
    "    print(doc.content[:100])\n",
    "    print(\"-\"*100)"
   ]
  },
  {
   "cell_type": "markdown",
   "metadata": {},
   "source": [
    "### Websites"
   ]
  },
  {
   "cell_type": "code",
   "execution_count": 84,
   "metadata": {},
   "outputs": [
    {
     "data": {
      "text/html": [
       "<pre style=\"white-space:pre;overflow-x:auto;line-height:normal;font-family:Menlo,'DejaVu Sans Mono',consolas,'Courier New',monospace\"><span style=\"color: #000080; text-decoration-color: #000080\">INFO</span> Loading knowledge base                                                                                        \n",
       "</pre>\n"
      ],
      "text/plain": [
       "\u001b[34mINFO\u001b[0m Loading knowledge base                                                                                        \n"
      ]
     },
     "metadata": {},
     "output_type": "display_data"
    },
    {
     "data": {
      "text/html": [
       "<pre style=\"white-space:pre;overflow-x:auto;line-height:normal;font-family:Menlo,'DejaVu Sans Mono',consolas,'Courier New',monospace\"><span style=\"color: #000080; text-decoration-color: #000080\">INFO</span> Loading knowledge base                                                                                        \n",
       "</pre>\n"
      ],
      "text/plain": [
       "\u001b[34mINFO\u001b[0m Loading knowledge base                                                                                        \n"
      ]
     },
     "metadata": {},
     "output_type": "display_data"
    },
    {
     "data": {
      "text/html": [
       "<pre style=\"white-space:pre;overflow-x:auto;line-height:normal;font-family:Menlo,'DejaVu Sans Mono',consolas,'Courier New',monospace\"><span style=\"color: #000080; text-decoration-color: #000080\">INFO</span> Found <span style=\"color: #008080; text-decoration-color: #008080; font-weight: bold\">5</span> documents                                                                                             \n",
       "</pre>\n"
      ],
      "text/plain": [
       "\u001b[34mINFO\u001b[0m Found \u001b[1;36m5\u001b[0m documents                                                                                             \n"
      ]
     },
     "metadata": {},
     "output_type": "display_data"
    },
    {
     "name": "stdout",
     "output_type": "stream",
     "text": [
      "Preventive measures for heart failure mainly revolve around managing risk factors and optimizing medical therapy to prevent the development or worsening of left ventricular dysfunction. Key preventive strategies include:\n",
      "\n",
      "1. Screening and Early Detection: Use of biomarkers, particularly natriuretic peptides (BNP and NT-proBNP), is recommended to screen individuals at risk of heart failure. These biomarkers help in early diagnosis and risk stratification.\n",
      "\n",
      "2. Control of Comorbid Conditions: Managing conditions that contribute to heart failure such as obesity, chronic kidney disease, chronic obstructive pulmonary disease, and anemia is crucial. \n",
      "\n",
      "3. Pharmacological Therapies: Use of medications including beta-blockers, angiotensin-converting enzyme (ACE) inhibitors or angiotensin receptor blockers, mineralocorticoid receptor antagonists, neprilysin inhibitors, and sodium-glucose co-transporter 2 inhibitors have shown survival benefits in heart failure patients.\n",
      "\n",
      "4. Lifestyle Modifications: Adopting a healthy lifestyle by maintaining a balanced diet, regular physical activity, avoiding tobacco, and limiting alcohol consumption can reduce the risk of heart failure.\n",
      "\n",
      "5. Monitoring and Managing Neurohormonal Activation: Overactivation of the sympathetic nervous system and renin-angiotensin-aldosterone system contributes to heart failure progression. Therapies that modulate these systems are important in prevention.\n",
      "\n",
      "These measures collectively aim at preventing the onset and progression of heart failure and reducing hospitalizations and mortality associated with the condition. For specific and personalized recommendations, consultation with a healthcare professional is advised.\n"
     ]
    }
   ],
   "source": [
    "url = \"https://pmc.ncbi.nlm.nih.gov/articles/PMC1955040/\"\n",
    "\n",
    "from agno.knowledge.website import WebsiteKnowledgeBase\n",
    "\n",
    "knowledge_base = WebsiteKnowledgeBase(\n",
    "    url=url,\n",
    "    vector_db=vector_db,\n",
    ")\n",
    "knowledge_base.load()\n",
    "\n",
    "agent = Agent(\n",
    "    model=AzureOpenAI(id=model_name),\n",
    "    knowledge=knowledge_base,\n",
    "    search_knowledge=True,\n",
    ")\n",
    "agent.knowledge.load()\n",
    "\n",
    "res = agent.run(\"What are preventive measures for heart failure?\")\n",
    "print(res.content)"
   ]
  },
  {
   "cell_type": "markdown",
   "metadata": {},
   "source": [
    "### CSV files"
   ]
  },
  {
   "cell_type": "code",
   "execution_count": 85,
   "metadata": {},
   "outputs": [
    {
     "data": {
      "text/html": [
       "<div>\n",
       "<style scoped>\n",
       "    .dataframe tbody tr th:only-of-type {\n",
       "        vertical-align: middle;\n",
       "    }\n",
       "\n",
       "    .dataframe tbody tr th {\n",
       "        vertical-align: top;\n",
       "    }\n",
       "\n",
       "    .dataframe thead th {\n",
       "        text-align: right;\n",
       "    }\n",
       "</style>\n",
       "<table border=\"1\" class=\"dataframe\">\n",
       "  <thead>\n",
       "    <tr style=\"text-align: right;\">\n",
       "      <th></th>\n",
       "      <th>Age</th>\n",
       "      <th>Sex</th>\n",
       "      <th>ChestPainType</th>\n",
       "      <th>RestingBP</th>\n",
       "      <th>Cholesterol</th>\n",
       "      <th>FastingBS</th>\n",
       "      <th>RestingECG</th>\n",
       "      <th>MaxHR</th>\n",
       "      <th>ExerciseAngina</th>\n",
       "      <th>Oldpeak</th>\n",
       "      <th>ST_Slope</th>\n",
       "      <th>HeartDisease</th>\n",
       "    </tr>\n",
       "  </thead>\n",
       "  <tbody>\n",
       "    <tr>\n",
       "      <th>0</th>\n",
       "      <td>40</td>\n",
       "      <td>M</td>\n",
       "      <td>ATA</td>\n",
       "      <td>140</td>\n",
       "      <td>289</td>\n",
       "      <td>0</td>\n",
       "      <td>Normal</td>\n",
       "      <td>172</td>\n",
       "      <td>N</td>\n",
       "      <td>0.0</td>\n",
       "      <td>Up</td>\n",
       "      <td>0</td>\n",
       "    </tr>\n",
       "    <tr>\n",
       "      <th>1</th>\n",
       "      <td>49</td>\n",
       "      <td>F</td>\n",
       "      <td>NAP</td>\n",
       "      <td>160</td>\n",
       "      <td>180</td>\n",
       "      <td>0</td>\n",
       "      <td>Normal</td>\n",
       "      <td>156</td>\n",
       "      <td>N</td>\n",
       "      <td>1.0</td>\n",
       "      <td>Flat</td>\n",
       "      <td>1</td>\n",
       "    </tr>\n",
       "    <tr>\n",
       "      <th>2</th>\n",
       "      <td>37</td>\n",
       "      <td>M</td>\n",
       "      <td>ATA</td>\n",
       "      <td>130</td>\n",
       "      <td>283</td>\n",
       "      <td>0</td>\n",
       "      <td>ST</td>\n",
       "      <td>98</td>\n",
       "      <td>N</td>\n",
       "      <td>0.0</td>\n",
       "      <td>Up</td>\n",
       "      <td>0</td>\n",
       "    </tr>\n",
       "    <tr>\n",
       "      <th>3</th>\n",
       "      <td>48</td>\n",
       "      <td>F</td>\n",
       "      <td>ASY</td>\n",
       "      <td>138</td>\n",
       "      <td>214</td>\n",
       "      <td>0</td>\n",
       "      <td>Normal</td>\n",
       "      <td>108</td>\n",
       "      <td>Y</td>\n",
       "      <td>1.5</td>\n",
       "      <td>Flat</td>\n",
       "      <td>1</td>\n",
       "    </tr>\n",
       "    <tr>\n",
       "      <th>4</th>\n",
       "      <td>54</td>\n",
       "      <td>M</td>\n",
       "      <td>NAP</td>\n",
       "      <td>150</td>\n",
       "      <td>195</td>\n",
       "      <td>0</td>\n",
       "      <td>Normal</td>\n",
       "      <td>122</td>\n",
       "      <td>N</td>\n",
       "      <td>0.0</td>\n",
       "      <td>Up</td>\n",
       "      <td>0</td>\n",
       "    </tr>\n",
       "  </tbody>\n",
       "</table>\n",
       "</div>"
      ],
      "text/plain": [
       "   Age Sex ChestPainType  RestingBP  Cholesterol  FastingBS RestingECG  MaxHR  \\\n",
       "0   40   M           ATA        140          289          0     Normal    172   \n",
       "1   49   F           NAP        160          180          0     Normal    156   \n",
       "2   37   M           ATA        130          283          0         ST     98   \n",
       "3   48   F           ASY        138          214          0     Normal    108   \n",
       "4   54   M           NAP        150          195          0     Normal    122   \n",
       "\n",
       "  ExerciseAngina  Oldpeak ST_Slope  HeartDisease  \n",
       "0              N      0.0       Up             0  \n",
       "1              N      1.0     Flat             1  \n",
       "2              N      0.0       Up             0  \n",
       "3              Y      1.5     Flat             1  \n",
       "4              N      0.0       Up             0  "
      ]
     },
     "execution_count": 85,
     "metadata": {},
     "output_type": "execute_result"
    }
   ],
   "source": [
    "import pandas as pd\n",
    "heart_df = pd.read_csv(\"heart.csv\")\n",
    "heart_df.head()"
   ]
  },
  {
   "cell_type": "code",
   "execution_count": 87,
   "metadata": {},
   "outputs": [
    {
     "data": {
      "text/html": [
       "<pre style=\"white-space:pre;overflow-x:auto;line-height:normal;font-family:Menlo,'DejaVu Sans Mono',consolas,'Courier New',monospace\"><span style=\"color: #000080; text-decoration-color: #000080\">INFO</span> Loading knowledge base                                                                                        \n",
       "</pre>\n"
      ],
      "text/plain": [
       "\u001b[34mINFO\u001b[0m Loading knowledge base                                                                                        \n"
      ]
     },
     "metadata": {},
     "output_type": "display_data"
    },
    {
     "data": {
      "text/html": [
       "<pre style=\"white-space:pre;overflow-x:auto;line-height:normal;font-family:Menlo,'DejaVu Sans Mono',consolas,'Courier New',monospace\"><span style=\"color: #000080; text-decoration-color: #000080\">INFO</span> Reading: heart.csv                                                                                            \n",
       "</pre>\n"
      ],
      "text/plain": [
       "\u001b[34mINFO\u001b[0m Reading: heart.csv                                                                                            \n"
      ]
     },
     "metadata": {},
     "output_type": "display_data"
    },
    {
     "data": {
      "text/html": [
       "<pre style=\"white-space:pre;overflow-x:auto;line-height:normal;font-family:Menlo,'DejaVu Sans Mono',consolas,'Courier New',monospace\"><span style=\"color: #000080; text-decoration-color: #000080\">INFO</span> Skipped <span style=\"color: #008080; text-decoration-color: #008080; font-weight: bold\">10</span> existing/duplicate documents.                                                                      \n",
       "</pre>\n"
      ],
      "text/plain": [
       "\u001b[34mINFO\u001b[0m Skipped \u001b[1;36m10\u001b[0m existing/duplicate documents.                                                                      \n"
      ]
     },
     "metadata": {},
     "output_type": "display_data"
    },
    {
     "data": {
      "text/html": [
       "<pre style=\"white-space:pre;overflow-x:auto;line-height:normal;font-family:Menlo,'DejaVu Sans Mono',consolas,'Courier New',monospace\"><span style=\"color: #000080; text-decoration-color: #000080\">INFO</span> Added <span style=\"color: #008080; text-decoration-color: #008080; font-weight: bold\">0</span> documents to knowledge base                                                                           \n",
       "</pre>\n"
      ],
      "text/plain": [
       "\u001b[34mINFO\u001b[0m Added \u001b[1;36m0\u001b[0m documents to knowledge base                                                                           \n"
      ]
     },
     "metadata": {},
     "output_type": "display_data"
    },
    {
     "data": {
      "text/html": [
       "<pre style=\"white-space:pre;overflow-x:auto;line-height:normal;font-family:Menlo,'DejaVu Sans Mono',consolas,'Courier New',monospace\"><span style=\"color: #000080; text-decoration-color: #000080\">INFO</span> Found <span style=\"color: #008080; text-decoration-color: #008080; font-weight: bold\">5</span> documents                                                                                             \n",
       "</pre>\n"
      ],
      "text/plain": [
       "\u001b[34mINFO\u001b[0m Found \u001b[1;36m5\u001b[0m documents                                                                                             \n"
      ]
     },
     "metadata": {},
     "output_type": "display_data"
    },
    {
     "name": "stdout",
     "output_type": "stream",
     "text": [
      "The dataset columns include various clinical and demographic features relevant to cardiovascular and heart failure studies. Here are some of the key columns observed:\n",
      "\n",
      "- Age (e.g., 130, 35, 61)\n",
      "- Sex (M for male, F for female)\n",
      "- Chest pain type/classification (e.g., ATA, ASY, NAP, TA)\n",
      "- Resting blood pressure (e.g., 122, 148, 114)\n",
      "- Serum cholesterol (e.g., 192, 203, 318)\n",
      "- Fasting blood sugar (0 or 1)\n",
      "- Resting electrocardiographic results (e.g., Normal, ST, LVH)\n",
      "- Maximum heart rate achieved (e.g., 174, 161, 140)\n",
      "- Exercise-induced angina (Y or N)\n",
      "- ST depression induced by exercise relative to rest (e.g., 0, 4.4)\n",
      "- Slope of the peak exercise ST segment (e.g., Up, Flat, Down)\n",
      "- Heart disease presence (0 or 1)\n",
      "\n",
      "These columns represent patient demographics, clinical measurements, test results, and diagnostic labels that help in heart disease or heart failure prediction studies. If you want a more specific or different dataset's columns, please specify.\n"
     ]
    }
   ],
   "source": [
    "from agno.knowledge.csv import CSVKnowledgeBase\n",
    "\n",
    "knowledge_base = CSVKnowledgeBase(\n",
    "    path = \"heart.csv\",\n",
    "    vector_db=vector_db,\n",
    ")\n",
    "\n",
    "agent = Agent(\n",
    "    model=AzureOpenAI(id=model_name),\n",
    "    knowledge=knowledge_base,\n",
    "    search_knowledge=True,\n",
    ")\n",
    "agent.knowledge.load()\n",
    "res = agent.run(\"What are the dataset columns?\")\n",
    "print(res.content)"
   ]
  },
  {
   "cell_type": "markdown",
   "metadata": {},
   "source": [
    "### Tasks\n",
    "* Input a keyword representative of your research area for ArXiv search and ask a question related to your topic\n",
    "* How is the text scraped from the website? \n",
    "* Remove the target column of the heart csv file (e.g. df.drop(\"HeartDisease\", axis=1, inplace=True)) and load only the first five rows (df.head()). How good is the agent at predicting the target column?"
   ]
  }
 ],
 "metadata": {
  "kernelspec": {
   "display_name": "ccls_datathon",
   "language": "python",
   "name": "python3"
  },
  "language_info": {
   "codemirror_mode": {
    "name": "ipython",
    "version": 3
   },
   "file_extension": ".py",
   "mimetype": "text/x-python",
   "name": "python",
   "nbconvert_exporter": "python",
   "pygments_lexer": "ipython3",
   "version": "3.11.3"
  }
 },
 "nbformat": 4,
 "nbformat_minor": 2
}
